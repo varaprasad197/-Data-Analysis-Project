{
 "cells": [
  {
   "cell_type": "code",
   "execution_count": 2,
   "id": "6874fdf6",
   "metadata": {},
   "outputs": [],
   "source": [
    "import pandas as pd\n",
    "import numpy as np\n",
    "import matplotlib.pyplot as plt\n",
    "import seaborn as sns"
   ]
  },
  {
   "cell_type": "markdown",
   "id": "1bee0175",
   "metadata": {},
   "source": [
    "readind the data set"
   ]
  },
  {
   "cell_type": "code",
   "execution_count": 3,
   "id": "6386a2dd",
   "metadata": {},
   "outputs": [
    {
     "data": {
      "text/html": [
       "<div>\n",
       "<style scoped>\n",
       "    .dataframe tbody tr th:only-of-type {\n",
       "        vertical-align: middle;\n",
       "    }\n",
       "\n",
       "    .dataframe tbody tr th {\n",
       "        vertical-align: top;\n",
       "    }\n",
       "\n",
       "    .dataframe thead th {\n",
       "        text-align: right;\n",
       "    }\n",
       "</style>\n",
       "<table border=\"1\" class=\"dataframe\">\n",
       "  <thead>\n",
       "    <tr style=\"text-align: right;\">\n",
       "      <th></th>\n",
       "      <th>id</th>\n",
       "      <th>age</th>\n",
       "      <th>gender</th>\n",
       "      <th>country</th>\n",
       "      <th>diagnosis_date</th>\n",
       "      <th>cancer_stage</th>\n",
       "      <th>family_history</th>\n",
       "      <th>smoking_status</th>\n",
       "      <th>bmi</th>\n",
       "      <th>cholesterol_level</th>\n",
       "      <th>hypertension</th>\n",
       "      <th>asthma</th>\n",
       "      <th>cirrhosis</th>\n",
       "      <th>other_cancer</th>\n",
       "      <th>treatment_type</th>\n",
       "      <th>end_treatment_date</th>\n",
       "      <th>survived</th>\n",
       "    </tr>\n",
       "  </thead>\n",
       "  <tbody>\n",
       "    <tr>\n",
       "      <th>0</th>\n",
       "      <td>1</td>\n",
       "      <td>64.0</td>\n",
       "      <td>Male</td>\n",
       "      <td>Sweden</td>\n",
       "      <td>2016-04-05</td>\n",
       "      <td>Stage I</td>\n",
       "      <td>Yes</td>\n",
       "      <td>Passive Smoker</td>\n",
       "      <td>29.4</td>\n",
       "      <td>199</td>\n",
       "      <td>0</td>\n",
       "      <td>0</td>\n",
       "      <td>1</td>\n",
       "      <td>0</td>\n",
       "      <td>Chemotherapy</td>\n",
       "      <td>2017-09-10</td>\n",
       "      <td>0</td>\n",
       "    </tr>\n",
       "    <tr>\n",
       "      <th>1</th>\n",
       "      <td>2</td>\n",
       "      <td>50.0</td>\n",
       "      <td>Female</td>\n",
       "      <td>Netherlands</td>\n",
       "      <td>2023-04-20</td>\n",
       "      <td>Stage III</td>\n",
       "      <td>Yes</td>\n",
       "      <td>Passive Smoker</td>\n",
       "      <td>41.2</td>\n",
       "      <td>280</td>\n",
       "      <td>1</td>\n",
       "      <td>1</td>\n",
       "      <td>0</td>\n",
       "      <td>0</td>\n",
       "      <td>Surgery</td>\n",
       "      <td>2024-06-17</td>\n",
       "      <td>1</td>\n",
       "    </tr>\n",
       "    <tr>\n",
       "      <th>2</th>\n",
       "      <td>3</td>\n",
       "      <td>65.0</td>\n",
       "      <td>Female</td>\n",
       "      <td>Hungary</td>\n",
       "      <td>2023-04-05</td>\n",
       "      <td>Stage III</td>\n",
       "      <td>Yes</td>\n",
       "      <td>Former Smoker</td>\n",
       "      <td>44.0</td>\n",
       "      <td>268</td>\n",
       "      <td>1</td>\n",
       "      <td>1</td>\n",
       "      <td>0</td>\n",
       "      <td>0</td>\n",
       "      <td>Combined</td>\n",
       "      <td>2024-04-09</td>\n",
       "      <td>0</td>\n",
       "    </tr>\n",
       "    <tr>\n",
       "      <th>3</th>\n",
       "      <td>4</td>\n",
       "      <td>51.0</td>\n",
       "      <td>Female</td>\n",
       "      <td>Belgium</td>\n",
       "      <td>2016-02-05</td>\n",
       "      <td>Stage I</td>\n",
       "      <td>No</td>\n",
       "      <td>Passive Smoker</td>\n",
       "      <td>43.0</td>\n",
       "      <td>241</td>\n",
       "      <td>1</td>\n",
       "      <td>1</td>\n",
       "      <td>0</td>\n",
       "      <td>0</td>\n",
       "      <td>Chemotherapy</td>\n",
       "      <td>2017-04-23</td>\n",
       "      <td>0</td>\n",
       "    </tr>\n",
       "    <tr>\n",
       "      <th>4</th>\n",
       "      <td>5</td>\n",
       "      <td>37.0</td>\n",
       "      <td>Male</td>\n",
       "      <td>Luxembourg</td>\n",
       "      <td>2023-11-29</td>\n",
       "      <td>Stage I</td>\n",
       "      <td>No</td>\n",
       "      <td>Passive Smoker</td>\n",
       "      <td>19.7</td>\n",
       "      <td>178</td>\n",
       "      <td>0</td>\n",
       "      <td>0</td>\n",
       "      <td>0</td>\n",
       "      <td>0</td>\n",
       "      <td>Combined</td>\n",
       "      <td>2025-01-08</td>\n",
       "      <td>0</td>\n",
       "    </tr>\n",
       "    <tr>\n",
       "      <th>...</th>\n",
       "      <td>...</td>\n",
       "      <td>...</td>\n",
       "      <td>...</td>\n",
       "      <td>...</td>\n",
       "      <td>...</td>\n",
       "      <td>...</td>\n",
       "      <td>...</td>\n",
       "      <td>...</td>\n",
       "      <td>...</td>\n",
       "      <td>...</td>\n",
       "      <td>...</td>\n",
       "      <td>...</td>\n",
       "      <td>...</td>\n",
       "      <td>...</td>\n",
       "      <td>...</td>\n",
       "      <td>...</td>\n",
       "      <td>...</td>\n",
       "    </tr>\n",
       "    <tr>\n",
       "      <th>889995</th>\n",
       "      <td>889996</td>\n",
       "      <td>40.0</td>\n",
       "      <td>Male</td>\n",
       "      <td>Malta</td>\n",
       "      <td>2022-07-01</td>\n",
       "      <td>Stage IV</td>\n",
       "      <td>No</td>\n",
       "      <td>Passive Smoker</td>\n",
       "      <td>44.8</td>\n",
       "      <td>243</td>\n",
       "      <td>1</td>\n",
       "      <td>1</td>\n",
       "      <td>1</td>\n",
       "      <td>0</td>\n",
       "      <td>Radiation</td>\n",
       "      <td>2023-02-23</td>\n",
       "      <td>0</td>\n",
       "    </tr>\n",
       "    <tr>\n",
       "      <th>889996</th>\n",
       "      <td>889997</td>\n",
       "      <td>62.0</td>\n",
       "      <td>Female</td>\n",
       "      <td>Cyprus</td>\n",
       "      <td>2015-09-27</td>\n",
       "      <td>Stage II</td>\n",
       "      <td>Yes</td>\n",
       "      <td>Former Smoker</td>\n",
       "      <td>21.6</td>\n",
       "      <td>240</td>\n",
       "      <td>0</td>\n",
       "      <td>0</td>\n",
       "      <td>0</td>\n",
       "      <td>0</td>\n",
       "      <td>Surgery</td>\n",
       "      <td>2017-06-19</td>\n",
       "      <td>0</td>\n",
       "    </tr>\n",
       "    <tr>\n",
       "      <th>889997</th>\n",
       "      <td>889998</td>\n",
       "      <td>48.0</td>\n",
       "      <td>Female</td>\n",
       "      <td>Estonia</td>\n",
       "      <td>2016-03-27</td>\n",
       "      <td>Stage III</td>\n",
       "      <td>Yes</td>\n",
       "      <td>Never Smoked</td>\n",
       "      <td>38.6</td>\n",
       "      <td>242</td>\n",
       "      <td>1</td>\n",
       "      <td>0</td>\n",
       "      <td>0</td>\n",
       "      <td>0</td>\n",
       "      <td>Combined</td>\n",
       "      <td>2017-01-23</td>\n",
       "      <td>1</td>\n",
       "    </tr>\n",
       "    <tr>\n",
       "      <th>889998</th>\n",
       "      <td>889999</td>\n",
       "      <td>67.0</td>\n",
       "      <td>Female</td>\n",
       "      <td>Slovakia</td>\n",
       "      <td>2015-12-22</td>\n",
       "      <td>Stage IV</td>\n",
       "      <td>Yes</td>\n",
       "      <td>Former Smoker</td>\n",
       "      <td>18.6</td>\n",
       "      <td>194</td>\n",
       "      <td>1</td>\n",
       "      <td>1</td>\n",
       "      <td>0</td>\n",
       "      <td>0</td>\n",
       "      <td>Chemotherapy</td>\n",
       "      <td>2017-12-12</td>\n",
       "      <td>0</td>\n",
       "    </tr>\n",
       "    <tr>\n",
       "      <th>889999</th>\n",
       "      <td>890000</td>\n",
       "      <td>55.0</td>\n",
       "      <td>Female</td>\n",
       "      <td>Malta</td>\n",
       "      <td>2021-07-26</td>\n",
       "      <td>Stage II</td>\n",
       "      <td>Yes</td>\n",
       "      <td>Current Smoker</td>\n",
       "      <td>42.8</td>\n",
       "      <td>250</td>\n",
       "      <td>0</td>\n",
       "      <td>0</td>\n",
       "      <td>0</td>\n",
       "      <td>0</td>\n",
       "      <td>Combined</td>\n",
       "      <td>2022-10-19</td>\n",
       "      <td>0</td>\n",
       "    </tr>\n",
       "  </tbody>\n",
       "</table>\n",
       "<p>890000 rows × 17 columns</p>\n",
       "</div>"
      ],
      "text/plain": [
       "            id   age  gender      country diagnosis_date cancer_stage  \\\n",
       "0            1  64.0    Male       Sweden     2016-04-05      Stage I   \n",
       "1            2  50.0  Female  Netherlands     2023-04-20    Stage III   \n",
       "2            3  65.0  Female      Hungary     2023-04-05    Stage III   \n",
       "3            4  51.0  Female      Belgium     2016-02-05      Stage I   \n",
       "4            5  37.0    Male   Luxembourg     2023-11-29      Stage I   \n",
       "...        ...   ...     ...          ...            ...          ...   \n",
       "889995  889996  40.0    Male        Malta     2022-07-01     Stage IV   \n",
       "889996  889997  62.0  Female       Cyprus     2015-09-27     Stage II   \n",
       "889997  889998  48.0  Female      Estonia     2016-03-27    Stage III   \n",
       "889998  889999  67.0  Female     Slovakia     2015-12-22     Stage IV   \n",
       "889999  890000  55.0  Female        Malta     2021-07-26     Stage II   \n",
       "\n",
       "       family_history  smoking_status   bmi  cholesterol_level  hypertension  \\\n",
       "0                 Yes  Passive Smoker  29.4                199             0   \n",
       "1                 Yes  Passive Smoker  41.2                280             1   \n",
       "2                 Yes   Former Smoker  44.0                268             1   \n",
       "3                  No  Passive Smoker  43.0                241             1   \n",
       "4                  No  Passive Smoker  19.7                178             0   \n",
       "...               ...             ...   ...                ...           ...   \n",
       "889995             No  Passive Smoker  44.8                243             1   \n",
       "889996            Yes   Former Smoker  21.6                240             0   \n",
       "889997            Yes    Never Smoked  38.6                242             1   \n",
       "889998            Yes   Former Smoker  18.6                194             1   \n",
       "889999            Yes  Current Smoker  42.8                250             0   \n",
       "\n",
       "        asthma  cirrhosis  other_cancer treatment_type end_treatment_date  \\\n",
       "0            0          1             0   Chemotherapy         2017-09-10   \n",
       "1            1          0             0        Surgery         2024-06-17   \n",
       "2            1          0             0       Combined         2024-04-09   \n",
       "3            1          0             0   Chemotherapy         2017-04-23   \n",
       "4            0          0             0       Combined         2025-01-08   \n",
       "...        ...        ...           ...            ...                ...   \n",
       "889995       1          1             0      Radiation         2023-02-23   \n",
       "889996       0          0             0        Surgery         2017-06-19   \n",
       "889997       0          0             0       Combined         2017-01-23   \n",
       "889998       1          0             0   Chemotherapy         2017-12-12   \n",
       "889999       0          0             0       Combined         2022-10-19   \n",
       "\n",
       "        survived  \n",
       "0              0  \n",
       "1              1  \n",
       "2              0  \n",
       "3              0  \n",
       "4              0  \n",
       "...          ...  \n",
       "889995         0  \n",
       "889996         0  \n",
       "889997         1  \n",
       "889998         0  \n",
       "889999         0  \n",
       "\n",
       "[890000 rows x 17 columns]"
      ]
     },
     "execution_count": 3,
     "metadata": {},
     "output_type": "execute_result"
    }
   ],
   "source": [
    "data=pd.read_csv(\"dataset_med.csv\")\n",
    "data"
   ]
  },
  {
   "cell_type": "code",
   "execution_count": 4,
   "id": "f670c5d2",
   "metadata": {},
   "outputs": [],
   "source": [
    "#convert age column into integer type\n",
    "data[\"age\"]=data[\"age\"].astype('int')"
   ]
  },
  {
   "cell_type": "code",
   "execution_count": 5,
   "id": "59a3affb",
   "metadata": {},
   "outputs": [],
   "source": [
    "# Convert date columns to datetime\n",
    "data['end_treatment_date'] = pd.to_datetime(data['end_treatment_date'])"
   ]
  },
  {
   "cell_type": "code",
   "execution_count": 6,
   "id": "50a15799",
   "metadata": {},
   "outputs": [],
   "source": [
    "# Convert date columns to datetime\n",
    "data['diagnosis_date'] = pd.to_datetime(data['diagnosis_date'])"
   ]
  },
  {
   "cell_type": "code",
   "execution_count": 7,
   "id": "44ded70e",
   "metadata": {},
   "outputs": [
    {
     "data": {
      "text/plain": [
       "0         523\n",
       "1         424\n",
       "2         370\n",
       "3         443\n",
       "4         406\n",
       "         ... \n",
       "889995    237\n",
       "889996    631\n",
       "889997    302\n",
       "889998    721\n",
       "889999    450\n",
       "Name: treatment_duration, Length: 890000, dtype: int64"
      ]
     },
     "execution_count": 7,
     "metadata": {},
     "output_type": "execute_result"
    }
   ],
   "source": [
    "#creation of new column treatment_duration \n",
    "data['treatment_duration'] = (data['end_treatment_date'] - data['diagnosis_date']).dt.days\n",
    "data['treatment_duration']"
   ]
  },
  {
   "cell_type": "code",
   "execution_count": 8,
   "id": "0ea50ab1-4e74-4936-a23e-8ef8c316a9a3",
   "metadata": {},
   "outputs": [],
   "source": [
    "#creating a column showing treatment completion status\n",
    "data['treatment_completed'] = data['end_treatment_date'].notna().astype(int)"
   ]
  },
  {
   "cell_type": "code",
   "execution_count": 10,
   "id": "b0881eaa-4b11-4d11-8334-ace5a81f52fa",
   "metadata": {},
   "outputs": [],
   "source": [
    "# creating age_group column to dataframe\n",
    "\n",
    "data['age_group'] = pd.cut(data['age'], bins=[0, 40, 60, 80, 120], labels=['0-40', '41-60', '61-80', '81+'])"
   ]
  },
  {
   "cell_type": "markdown",
   "id": "18bdfd42",
   "metadata": {},
   "source": [
    "PATIENT DEMOGRAPHICS AND GEOGRAPHIC ANALYSIS"
   ]
  },
  {
   "cell_type": "markdown",
   "id": "3afbd390",
   "metadata": {},
   "source": [
    "1) What is the age distribution of patients across different cancer stages?\n",
    " lexical answer (summary)"
   ]
  },
  {
   "cell_type": "code",
   "execution_count": 11,
   "id": "43031983",
   "metadata": {},
   "outputs": [
    {
     "name": "stdout",
     "output_type": "stream",
     "text": [
      "\n",
      "Age Distribution Statistics by Cancer Stage (%):\n"
     ]
    },
    {
     "data": {
      "text/html": [
       "<div>\n",
       "<style scoped>\n",
       "    .dataframe tbody tr th:only-of-type {\n",
       "        vertical-align: middle;\n",
       "    }\n",
       "\n",
       "    .dataframe tbody tr th {\n",
       "        vertical-align: top;\n",
       "    }\n",
       "\n",
       "    .dataframe thead th {\n",
       "        text-align: right;\n",
       "    }\n",
       "</style>\n",
       "<table border=\"1\" class=\"dataframe\">\n",
       "  <thead>\n",
       "    <tr style=\"text-align: right;\">\n",
       "      <th>cancer_stage</th>\n",
       "      <th>Stage I</th>\n",
       "      <th>Stage II</th>\n",
       "      <th>Stage III</th>\n",
       "      <th>Stage IV</th>\n",
       "    </tr>\n",
       "    <tr>\n",
       "      <th>age_group</th>\n",
       "      <th></th>\n",
       "      <th></th>\n",
       "      <th></th>\n",
       "      <th></th>\n",
       "    </tr>\n",
       "  </thead>\n",
       "  <tbody>\n",
       "    <tr>\n",
       "      <th>0-40</th>\n",
       "      <td>25.118360</td>\n",
       "      <td>24.865552</td>\n",
       "      <td>25.103038</td>\n",
       "      <td>24.913049</td>\n",
       "    </tr>\n",
       "    <tr>\n",
       "      <th>41-60</th>\n",
       "      <td>25.037111</td>\n",
       "      <td>24.968639</td>\n",
       "      <td>24.939446</td>\n",
       "      <td>25.054804</td>\n",
       "    </tr>\n",
       "    <tr>\n",
       "      <th>61-80</th>\n",
       "      <td>24.888611</td>\n",
       "      <td>25.058982</td>\n",
       "      <td>25.144952</td>\n",
       "      <td>24.907454</td>\n",
       "    </tr>\n",
       "    <tr>\n",
       "      <th>81+</th>\n",
       "      <td>25.266013</td>\n",
       "      <td>24.535781</td>\n",
       "      <td>24.994784</td>\n",
       "      <td>25.203422</td>\n",
       "    </tr>\n",
       "  </tbody>\n",
       "</table>\n",
       "</div>"
      ],
      "text/plain": [
       "cancer_stage    Stage I   Stage II  Stage III   Stage IV\n",
       "age_group                                               \n",
       "0-40          25.118360  24.865552  25.103038  24.913049\n",
       "41-60         25.037111  24.968639  24.939446  25.054804\n",
       "61-80         24.888611  25.058982  25.144952  24.907454\n",
       "81+           25.266013  24.535781  24.994784  25.203422"
      ]
     },
     "execution_count": 11,
     "metadata": {},
     "output_type": "execute_result"
    }
   ],
   "source": [
    "age_stats = pd.crosstab(data['age_group'],data['cancer_stage'],normalize='index')*100\n",
    "print(\"\\nAge Distribution Statistics by Cancer Stage (%):\")\n",
    "age_stats"
   ]
  },
  {
   "cell_type": "markdown",
   "id": "1b013e81",
   "metadata": {},
   "source": [
    " 2) How many male and female patients are there, and what is the average age for each gender?"
   ]
  },
  {
   "cell_type": "code",
   "execution_count": 9,
   "id": "96cf95e8",
   "metadata": {},
   "outputs": [
    {
     "name": "stdout",
     "output_type": "stream",
     "text": [
      "COUNT OF MALE AND FEMALE PATIENTS.\n",
      "gender\n",
      "Male      445134\n",
      "Female    444866\n",
      "Name: count, dtype: int64\n",
      "\n",
      "AVERAGE AGE FOR EACH GENDER.\n",
      "gender\n",
      "Female    55.016457\n",
      "Male      54.997565\n",
      "Name: age, dtype: float64\n"
     ]
    }
   ],
   "source": [
    "gender_count=data['gender'].value_counts()\n",
    "print(\"COUNT OF MALE AND FEMALE PATIENTS.\")\n",
    "print(gender_count)\n",
    "print()\n",
    "avg_gender=data.groupby('gender')['age'].mean()\n",
    "print(\"AVERAGE AGE FOR EACH GENDER.\")\n",
    "print(avg_gender)"
   ]
  },
  {
   "cell_type": "markdown",
   "id": "4f050f23",
   "metadata": {},
   "source": [
    "3) significant gender-based differences in survival rates, treatment types, or cancer stage at diagnosis?"
   ]
  },
  {
   "cell_type": "code",
   "execution_count": 9,
   "id": "56ad85cb",
   "metadata": {},
   "outputs": [
    {
     "name": "stdout",
     "output_type": "stream",
     "text": [
      "        cancer_stage  survived  treatment_type\n",
      "gender                                        \n",
      "Female        444866    444866          444866\n",
      "Male          445134    445134          445134\n"
     ]
    }
   ],
   "source": [
    "lis=['cancer_stage','survived','treatment_type']\n",
    "significance=data.groupby('gender')[lis].count()\n",
    "print(significance)"
   ]
  },
  {
   "cell_type": "markdown",
   "id": "e51ae5ff",
   "metadata": {},
   "source": [
    "4)Which countries have the most patients and show the best survival rates?"
   ]
  },
  {
   "cell_type": "code",
   "execution_count": 85,
   "id": "f2aa6df5",
   "metadata": {},
   "outputs": [
    {
     "name": "stdout",
     "output_type": "stream",
     "text": [
      "\n",
      "TOP 7 COUNTRIES BY PATIENT COUNT AND THEIR SURVIVAL RATES:\n",
      "\n",
      "    country  patient_count  survival_rate\n",
      "0     Malta          33367      22.255522\n",
      "1   Ireland          33243      21.902355\n",
      "2  Portugal          33208      22.199470\n",
      "3    France          33199      21.575951\n",
      "4    Sweden          33161      21.606707\n",
      "5   Croatia          33138      21.989861\n",
      "6    Greece          33052      21.950260\n"
     ]
    }
   ],
   "source": [
    "#no of patients per country\n",
    "count = data.groupby('country')['id'].count().reset_index(name='patient_count')\n",
    "count = count.sort_values(by='patient_count', ascending=False)\n",
    "\n",
    "# survival rates per country\n",
    "survival = data.groupby('country')['survived'].mean().reset_index(name='survival_rate')\n",
    "survival['survival_rate'] = survival['survival_rate'] * 100  \n",
    "survival = survival.sort_values(by='survival_rate', ascending=False)\n",
    "\n",
    "country_stats = pd.merge(count, survival, on='country')\n",
    "country_stats = country_stats[country_stats['patient_count'] >= 10]\n",
    "top_countries = country_stats.sort_values(by=['patient_count', 'survival_rate'], ascending=[False, False])\n",
    "print(\"\\nTOP 7 COUNTRIES BY PATIENT COUNT AND THEIR SURVIVAL RATES:\\n\")\n",
    "print(top_countries.head(7))"
   ]
  },
  {
   "cell_type": "markdown",
   "id": "8cbaab0b",
   "metadata": {},
   "source": [
    "5)Does age at diagnosis vary across different countries or stages, and how does this affect treatment decisions?"
   ]
  },
  {
   "cell_type": "code",
   "execution_count": 35,
   "id": "386aac59-fa16-4071-b476-4bf61826c505",
   "metadata": {},
   "outputs": [
    {
     "data": {
      "text/plain": [
       "country\n",
       "Ireland           55.1\n",
       "Bulgaria          55.1\n",
       "Estonia           55.1\n",
       "Poland            55.1\n",
       "France            55.1\n",
       "Germany           55.1\n",
       "Italy             55.1\n",
       "Latvia            55.0\n",
       "Slovenia          55.0\n",
       "Slovakia          55.0\n",
       "Romania           55.0\n",
       "Portugal          55.0\n",
       "Netherlands       55.0\n",
       "Malta             55.0\n",
       "Lithuania         55.0\n",
       "Austria           55.0\n",
       "Greece            55.0\n",
       "Czech Republic    55.0\n",
       "Croatia           55.0\n",
       "Sweden            55.0\n",
       "Belgium           54.9\n",
       "Luxembourg        54.9\n",
       "Hungary           54.9\n",
       "Finland           54.9\n",
       "Denmark           54.9\n",
       "Cyprus            54.9\n",
       "Spain             54.9\n",
       "Name: age, dtype: float64"
      ]
     },
     "execution_count": 35,
     "metadata": {},
     "output_type": "execute_result"
    }
   ],
   "source": [
    "# average age of patients by country\n",
    "\n",
    "avg_age_country=data.groupby('country')['age'].mean().round(1)\n",
    "avg_age_country.sort_values(ascending=False)"
   ]
  },
  {
   "cell_type": "code",
   "execution_count": 36,
   "id": "35f47ba4-2f15-44ad-b902-f374a4645990",
   "metadata": {},
   "outputs": [
    {
     "data": {
      "text/plain": [
       "cancer_stage\n",
       "Stage I      54.99\n",
       "Stage II     55.00\n",
       "Stage III    55.02\n",
       "Stage IV     55.01\n",
       "Name: age, dtype: float64"
      ]
     },
     "execution_count": 36,
     "metadata": {},
     "output_type": "execute_result"
    }
   ],
   "source": [
    "# average age by cancer stage\n",
    "\n",
    "avg_age_stage=data.groupby('cancer_stage')['age'].mean().round(2)\n",
    "avg_age_stage"
   ]
  },
  {
   "cell_type": "code",
   "execution_count": 10,
   "id": "4cbbb775-5935-470e-885a-dab7381e4f7e",
   "metadata": {},
   "outputs": [
    {
     "data": {
      "text/html": [
       "<div>\n",
       "<style scoped>\n",
       "    .dataframe tbody tr th:only-of-type {\n",
       "        vertical-align: middle;\n",
       "    }\n",
       "\n",
       "    .dataframe tbody tr th {\n",
       "        vertical-align: top;\n",
       "    }\n",
       "\n",
       "    .dataframe thead th {\n",
       "        text-align: right;\n",
       "    }\n",
       "</style>\n",
       "<table border=\"1\" class=\"dataframe\">\n",
       "  <thead>\n",
       "    <tr style=\"text-align: right;\">\n",
       "      <th>treatment_type</th>\n",
       "      <th>Chemotherapy</th>\n",
       "      <th>Combined</th>\n",
       "      <th>Radiation</th>\n",
       "      <th>Surgery</th>\n",
       "    </tr>\n",
       "    <tr>\n",
       "      <th>age_group</th>\n",
       "      <th></th>\n",
       "      <th></th>\n",
       "      <th></th>\n",
       "      <th></th>\n",
       "    </tr>\n",
       "  </thead>\n",
       "  <tbody>\n",
       "    <tr>\n",
       "      <th>0-40</th>\n",
       "      <td>25.153600</td>\n",
       "      <td>25.273109</td>\n",
       "      <td>24.735318</td>\n",
       "      <td>24.837973</td>\n",
       "    </tr>\n",
       "    <tr>\n",
       "      <th>41-60</th>\n",
       "      <td>25.030387</td>\n",
       "      <td>25.004025</td>\n",
       "      <td>24.859121</td>\n",
       "      <td>25.106467</td>\n",
       "    </tr>\n",
       "    <tr>\n",
       "      <th>61-80</th>\n",
       "      <td>25.201481</td>\n",
       "      <td>24.960842</td>\n",
       "      <td>24.741009</td>\n",
       "      <td>25.096668</td>\n",
       "    </tr>\n",
       "    <tr>\n",
       "      <th>81+</th>\n",
       "      <td>24.514918</td>\n",
       "      <td>25.161694</td>\n",
       "      <td>24.932193</td>\n",
       "      <td>25.391195</td>\n",
       "    </tr>\n",
       "  </tbody>\n",
       "</table>\n",
       "</div>"
      ],
      "text/plain": [
       "treatment_type  Chemotherapy   Combined  Radiation    Surgery\n",
       "age_group                                                    \n",
       "0-40               25.153600  25.273109  24.735318  24.837973\n",
       "41-60              25.030387  25.004025  24.859121  25.106467\n",
       "61-80              25.201481  24.960842  24.741009  25.096668\n",
       "81+                24.514918  25.161694  24.932193  25.391195"
      ]
     },
     "execution_count": 10,
     "metadata": {},
     "output_type": "execute_result"
    }
   ],
   "source": [
    "# relating treatment type with age groups\n",
    "\n",
    "treatment_by_age=pd.crosstab(data['age_group'],data['treatment_type'],normalize=\"index\")*100\n",
    "treatment_by_age"
   ]
  },
  {
   "cell_type": "code",
   "execution_count": 45,
   "id": "eb81e1ed-0e69-4af0-8e8f-605b58ca4493",
   "metadata": {},
   "outputs": [
    {
     "name": "stdout",
     "output_type": "stream",
     "text": [
      "\n"
     ]
    },
    {
     "data": {
      "text/plain": [
       "<function matplotlib.pyplot.show(close=None, block=None)>"
      ]
     },
     "execution_count": 45,
     "metadata": {},
     "output_type": "execute_result"
    },
    {
     "data": {
      "text/plain": [
       "<Figure size 1000x700 with 0 Axes>"
      ]
     },
     "metadata": {},
     "output_type": "display_data"
    },
    {
     "data": {
      "image/png": "[encoded data removed]",
      "text/plain": [
       "<Figure size 640x480 with 1 Axes>"
      ]
     },
     "metadata": {},
     "output_type": "display_data"
    }
   ],
   "source": [
    "# plotting stacked plot\n",
    "\n",
    "plt.figure(figsize=(10,7))\n",
    "treatment_by_age.plot(kind='bar',stacked=False,cmap=\"viridis\",)\n",
    "plt.title(\"AGE GROUP VS TREATMENT TYPE\")\n",
    "plt.xlabel(\"age group\")\n",
    "plt.ylabel(\"percentage\")\n",
    "print()\n",
    "plt.show"
   ]
  },
  {
   "cell_type": "markdown",
   "id": "544bd850-cca0-4661-a4ad-1ce3ac34b94c",
   "metadata": {},
   "source": [
    "II) CANCER STAGE AND SURVIVAL ANALYSIS"
   ]
  },
  {
   "cell_type": "markdown",
   "id": "6fbab9a4-247b-46e5-86e7-55188916835e",
   "metadata": {},
   "source": [
    "1) What are the survival rates across different cancer stages (Stage I to IV)?"
   ]
  },
  {
   "cell_type": "code",
   "execution_count": 20,
   "id": "b7d7ee7a-6a1a-4c06-b9c7-c43f3436431f",
   "metadata": {},
   "outputs": [
    {
     "name": "stdout",
     "output_type": "stream",
     "text": [
      "SURVIVAL RATES OF DIFFERENT CANCER STAGES:\n",
      "\n"
     ]
    },
    {
     "data": {
      "text/plain": [
       "cancer_stage\n",
       "Stage I      21.813263\n",
       "Stage II     22.089107\n",
       "Stage III    22.052706\n",
       "Stage IV     22.136640\n",
       "Name: survived, dtype: float64"
      ]
     },
     "execution_count": 20,
     "metadata": {},
     "output_type": "execute_result"
    }
   ],
   "source": [
    "survival_rate=data.groupby('cancer_stage')['survived'].mean()*100\n",
    "print(\"SURVIVAL RATES OF DIFFERENT CANCER STAGES:\\n\")\n",
    "survival_rate"
   ]
  },
  {
   "cell_type": "markdown",
   "id": "9142ecce-8744-418c-bb05-88d0c07ec2c4",
   "metadata": {},
   "source": [
    "2) which cancer stage has the highest death rate?"
   ]
  },
  {
   "cell_type": "code",
   "execution_count": 19,
   "id": "72fb1f0e-e142-403a-9fd0-b9b2ce4226d2",
   "metadata": {},
   "outputs": [
    {
     "name": "stdout",
     "output_type": "stream",
     "text": [
      "DEATH RATES OF DIFFERENT CANCER STAGES:\n",
      "\n"
     ]
    },
    {
     "data": {
      "text/plain": [
       "cancer_stage\n",
       "Stage I      78.186737\n",
       "Stage II     77.910893\n",
       "Stage III    77.947294\n",
       "Stage IV     77.863360\n",
       "Name: survived, dtype: float64"
      ]
     },
     "execution_count": 19,
     "metadata": {},
     "output_type": "execute_result"
    }
   ],
   "source": [
    "death_rate=(1-data.groupby('cancer_stage')['survived'].mean())*100\n",
    "print(\"DEATH RATES OF DIFFERENT CANCER STAGES:\\n\")\n",
    "death_rate"
   ]
  },
  {
   "cell_type": "markdown",
   "id": "c358e17f-7295-4535-974e-1ef8817896fc",
   "metadata": {},
   "source": [
    "3) How does survival probability change across different age groups?"
   ]
  },
  {
   "cell_type": "code",
   "execution_count": 83,
   "id": "38c3deda-4c8c-47ea-ad57-3faf6a2ea710",
   "metadata": {},
   "outputs": [
    {
     "name": "stdout",
     "output_type": "stream",
     "text": [
      "\n",
      "survival probability change across different age groups\n",
      "\n"
     ]
    },
    {
     "data": {
      "text/html": [
       "<div>\n",
       "<style scoped>\n",
       "    .dataframe tbody tr th:only-of-type {\n",
       "        vertical-align: middle;\n",
       "    }\n",
       "\n",
       "    .dataframe tbody tr th {\n",
       "        vertical-align: top;\n",
       "    }\n",
       "\n",
       "    .dataframe thead th {\n",
       "        text-align: right;\n",
       "    }\n",
       "</style>\n",
       "<table border=\"1\" class=\"dataframe\">\n",
       "  <thead>\n",
       "    <tr style=\"text-align: right;\">\n",
       "      <th></th>\n",
       "      <th>age_group</th>\n",
       "      <th>survival_probability</th>\n",
       "    </tr>\n",
       "  </thead>\n",
       "  <tbody>\n",
       "    <tr>\n",
       "      <th>0</th>\n",
       "      <td>0-40</td>\n",
       "      <td>21.828310</td>\n",
       "    </tr>\n",
       "    <tr>\n",
       "      <th>1</th>\n",
       "      <td>41-60</td>\n",
       "      <td>22.012354</td>\n",
       "    </tr>\n",
       "    <tr>\n",
       "      <th>2</th>\n",
       "      <td>61-80</td>\n",
       "      <td>22.082725</td>\n",
       "    </tr>\n",
       "    <tr>\n",
       "      <th>3</th>\n",
       "      <td>81+</td>\n",
       "      <td>21.896306</td>\n",
       "    </tr>\n",
       "  </tbody>\n",
       "</table>\n",
       "</div>"
      ],
      "text/plain": [
       "  age_group  survival_probability\n",
       "0      0-40             21.828310\n",
       "1     41-60             22.012354\n",
       "2     61-80             22.082725\n",
       "3       81+             21.896306"
      ]
     },
     "execution_count": 83,
     "metadata": {},
     "output_type": "execute_result"
    }
   ],
   "source": [
    "#creating survival probability for each age group\n",
    "\n",
    "probability=data.groupby('age_group',observed=True)['survived'].mean()*100\n",
    "probability=probability.reset_index(name=\"survival_probability\")\n",
    "print(\"\\nsurvival probability change across different age groups\\n\")\n",
    "probability"
   ]
  },
  {
   "cell_type": "markdown",
   "id": "54658027-1d90-4aa2-81b8-5fd980d131c3",
   "metadata": {},
   "source": [
    "4) What is the impact of early-stage vs late-stage diagnosis on survival outcomes?"
   ]
  },
  {
   "cell_type": "code",
   "execution_count": 64,
   "id": "49fe427a-8d51-42df-b01c-29f9f673b603",
   "metadata": {},
   "outputs": [
    {
     "data": {
      "text/html": [
       "<div>\n",
       "<style scoped>\n",
       "    .dataframe tbody tr th:only-of-type {\n",
       "        vertical-align: middle;\n",
       "    }\n",
       "\n",
       "    .dataframe tbody tr th {\n",
       "        vertical-align: top;\n",
       "    }\n",
       "\n",
       "    .dataframe thead th {\n",
       "        text-align: right;\n",
       "    }\n",
       "</style>\n",
       "<table border=\"1\" class=\"dataframe\">\n",
       "  <thead>\n",
       "    <tr style=\"text-align: right;\">\n",
       "      <th></th>\n",
       "      <th>survived</th>\n",
       "      <th>cancer_stage</th>\n",
       "      <th>grouped_stage</th>\n",
       "    </tr>\n",
       "  </thead>\n",
       "  <tbody>\n",
       "    <tr>\n",
       "      <th>0</th>\n",
       "      <td>0</td>\n",
       "      <td>Stage I</td>\n",
       "      <td>early_stage</td>\n",
       "    </tr>\n",
       "    <tr>\n",
       "      <th>1</th>\n",
       "      <td>1</td>\n",
       "      <td>Stage III</td>\n",
       "      <td>late_stage</td>\n",
       "    </tr>\n",
       "    <tr>\n",
       "      <th>2</th>\n",
       "      <td>0</td>\n",
       "      <td>Stage III</td>\n",
       "      <td>late_stage</td>\n",
       "    </tr>\n",
       "    <tr>\n",
       "      <th>3</th>\n",
       "      <td>0</td>\n",
       "      <td>Stage I</td>\n",
       "      <td>early_stage</td>\n",
       "    </tr>\n",
       "    <tr>\n",
       "      <th>4</th>\n",
       "      <td>0</td>\n",
       "      <td>Stage I</td>\n",
       "      <td>early_stage</td>\n",
       "    </tr>\n",
       "    <tr>\n",
       "      <th>...</th>\n",
       "      <td>...</td>\n",
       "      <td>...</td>\n",
       "      <td>...</td>\n",
       "    </tr>\n",
       "    <tr>\n",
       "      <th>889995</th>\n",
       "      <td>0</td>\n",
       "      <td>Stage IV</td>\n",
       "      <td>late_stage</td>\n",
       "    </tr>\n",
       "    <tr>\n",
       "      <th>889996</th>\n",
       "      <td>0</td>\n",
       "      <td>Stage II</td>\n",
       "      <td>early_stage</td>\n",
       "    </tr>\n",
       "    <tr>\n",
       "      <th>889997</th>\n",
       "      <td>1</td>\n",
       "      <td>Stage III</td>\n",
       "      <td>late_stage</td>\n",
       "    </tr>\n",
       "    <tr>\n",
       "      <th>889998</th>\n",
       "      <td>0</td>\n",
       "      <td>Stage IV</td>\n",
       "      <td>late_stage</td>\n",
       "    </tr>\n",
       "    <tr>\n",
       "      <th>889999</th>\n",
       "      <td>0</td>\n",
       "      <td>Stage II</td>\n",
       "      <td>early_stage</td>\n",
       "    </tr>\n",
       "  </tbody>\n",
       "</table>\n",
       "<p>890000 rows × 3 columns</p>\n",
       "</div>"
      ],
      "text/plain": [
       "        survived cancer_stage grouped_stage\n",
       "0              0      Stage I   early_stage\n",
       "1              1    Stage III    late_stage\n",
       "2              0    Stage III    late_stage\n",
       "3              0      Stage I   early_stage\n",
       "4              0      Stage I   early_stage\n",
       "...          ...          ...           ...\n",
       "889995         0     Stage IV    late_stage\n",
       "889996         0     Stage II   early_stage\n",
       "889997         1    Stage III    late_stage\n",
       "889998         0     Stage IV    late_stage\n",
       "889999         0     Stage II   early_stage\n",
       "\n",
       "[890000 rows x 3 columns]"
      ]
     },
     "execution_count": 64,
     "metadata": {},
     "output_type": "execute_result"
    }
   ],
   "source": [
    "df=data[['survived','cancer_stage']].copy()\n",
    "df['grouped_stage']=df['cancer_stage'].map({'Stage I':'early_stage','Stage II':'early_stage','Stage III':'late_stage','Stage IV':'late_stage'})\n",
    "df"
   ]
  },
  {
   "cell_type": "code",
   "execution_count": 73,
   "id": "2a08da50-c4c3-4c3b-9df8-762ad0d702f8",
   "metadata": {},
   "outputs": [
    {
     "name": "stdout",
     "output_type": "stream",
     "text": [
      "\n",
      "impact of early-stage vs late-stage diagnosis on survival outcomes\n",
      "\n"
     ]
    },
    {
     "data": {
      "text/html": [
       "<div>\n",
       "<style scoped>\n",
       "    .dataframe tbody tr th:only-of-type {\n",
       "        vertical-align: middle;\n",
       "    }\n",
       "\n",
       "    .dataframe tbody tr th {\n",
       "        vertical-align: top;\n",
       "    }\n",
       "\n",
       "    .dataframe thead th {\n",
       "        text-align: right;\n",
       "    }\n",
       "</style>\n",
       "<table border=\"1\" class=\"dataframe\">\n",
       "  <thead>\n",
       "    <tr style=\"text-align: right;\">\n",
       "      <th></th>\n",
       "      <th>grouped_stage</th>\n",
       "      <th>survival_rate</th>\n",
       "    </tr>\n",
       "  </thead>\n",
       "  <tbody>\n",
       "    <tr>\n",
       "      <th>0</th>\n",
       "      <td>early_stage</td>\n",
       "      <td>21.951137</td>\n",
       "    </tr>\n",
       "    <tr>\n",
       "      <th>1</th>\n",
       "      <td>late_stage</td>\n",
       "      <td>22.094666</td>\n",
       "    </tr>\n",
       "  </tbody>\n",
       "</table>\n",
       "</div>"
      ],
      "text/plain": [
       "  grouped_stage  survival_rate\n",
       "0   early_stage      21.951137\n",
       "1    late_stage      22.094666"
      ]
     },
     "execution_count": 73,
     "metadata": {},
     "output_type": "execute_result"
    }
   ],
   "source": [
    "survival_rate=df.groupby('grouped_stage')['survived'].mean()*100\n",
    "survival_rate=survival_rate.reset_index(name=\"survival_rate\")\n",
    "print(\"\\nimpact of early-stage vs late-stage diagnosis on survival outcomes\\n\")\n",
    "survival_rate"
   ]
  },
  {
   "cell_type": "markdown",
   "id": "ed230e4d-62c6-4942-8ca4-523cf2bb0c84",
   "metadata": {},
   "source": [
    "5) How is cancer stage distributed among patients at the time of diagnosis?"
   ]
  },
  {
   "cell_type": "code",
   "execution_count": 58,
   "id": "23cb3225-c6a1-4d6f-a0c7-963b3f620858",
   "metadata": {},
   "outputs": [
    {
     "data": {
      "text/html": [
       "<div>\n",
       "<style scoped>\n",
       "    .dataframe tbody tr th:only-of-type {\n",
       "        vertical-align: middle;\n",
       "    }\n",
       "\n",
       "    .dataframe tbody tr th {\n",
       "        vertical-align: top;\n",
       "    }\n",
       "\n",
       "    .dataframe thead th {\n",
       "        text-align: right;\n",
       "    }\n",
       "</style>\n",
       "<table border=\"1\" class=\"dataframe\">\n",
       "  <thead>\n",
       "    <tr style=\"text-align: right;\">\n",
       "      <th></th>\n",
       "      <th>cancer_stage</th>\n",
       "      <th>count</th>\n",
       "      <th>percentage</th>\n",
       "    </tr>\n",
       "  </thead>\n",
       "  <tbody>\n",
       "    <tr>\n",
       "      <th>2</th>\n",
       "      <td>Stage I</td>\n",
       "      <td>222516</td>\n",
       "      <td>25.00</td>\n",
       "    </tr>\n",
       "    <tr>\n",
       "      <th>3</th>\n",
       "      <td>Stage II</td>\n",
       "      <td>222363</td>\n",
       "      <td>24.98</td>\n",
       "    </tr>\n",
       "    <tr>\n",
       "      <th>0</th>\n",
       "      <td>Stage III</td>\n",
       "      <td>222594</td>\n",
       "      <td>25.01</td>\n",
       "    </tr>\n",
       "    <tr>\n",
       "      <th>1</th>\n",
       "      <td>Stage IV</td>\n",
       "      <td>222527</td>\n",
       "      <td>25.00</td>\n",
       "    </tr>\n",
       "  </tbody>\n",
       "</table>\n",
       "</div>"
      ],
      "text/plain": [
       "  cancer_stage   count  percentage\n",
       "2      Stage I  222516       25.00\n",
       "3     Stage II  222363       24.98\n",
       "0    Stage III  222594       25.01\n",
       "1     Stage IV  222527       25.00"
      ]
     },
     "execution_count": 58,
     "metadata": {},
     "output_type": "execute_result"
    }
   ],
   "source": [
    "# creating a dataframe to show count and percentage of patients for each cancer stage\n",
    "\n",
    "stage_count=data['cancer_stage'].value_counts().reset_index(name='count')\n",
    "total_patients=stage_count['count'].sum()\n",
    "stage_count['percentage']=(stage_count['count']/total_patients*100).round(2)\n",
    "stage_count.sort_values(by='cancer_stage')"
   ]
  },
  {
   "cell_type": "code",
   "execution_count": 79,
   "id": "82218485-d39c-41ff-a2c7-cfc626e65e1d",
   "metadata": {},
   "outputs": [
    {
     "name": "stdout",
     "output_type": "stream",
     "text": [
      "\n"
     ]
    },
    {
     "data": {
      "image/png": "[encoded data removed]",
      "text/plain": [
       "<Figure size 700x400 with 1 Axes>"
      ]
     },
     "metadata": {},
     "output_type": "display_data"
    }
   ],
   "source": [
    "plt.figure(figsize=(7,4))\n",
    "sns.barplot(x='cancer_stage',y='percentage',data=stage_count,color=\"skyblue\")\n",
    "plt.title(\"\\nCANCER STAGE DISTRIBUTION AT DIAGNOSIS\")\n",
    "print()\n",
    "plt.show()"
   ]
  },
  {
   "cell_type": "markdown",
   "id": "36bbe4fb-5e18-4440-a698-d5421b699de7",
   "metadata": {},
   "source": [
    "III) TREATMENT EFFECTIVENESS AND PATTERNS"
   ]
  },
  {
   "cell_type": "markdown",
   "id": "6844635b-6085-4fd2-a474-9e6684ff9205",
   "metadata": {},
   "source": [
    "1) Which treatment types (Chemotherapy, Surgery, Radiation, Combined)\n",
    "   yield the highest survival rates for each cancer stage?"
   ]
  },
  {
   "cell_type": "code",
   "execution_count": 48,
   "id": "33df5185-9c3f-4af8-ad5d-1e4a9309805c",
   "metadata": {},
   "outputs": [
    {
     "name": "stdout",
     "output_type": "stream",
     "text": [
      "\n",
      "TOP 2 CANCER TREATMENT TYPES WHICH SHOW HIGHEST SURVIVAL RATES:\n",
      "\n"
     ]
    },
    {
     "data": {
      "text/html": [
       "<div>\n",
       "<style scoped>\n",
       "    .dataframe tbody tr th:only-of-type {\n",
       "        vertical-align: middle;\n",
       "    }\n",
       "\n",
       "    .dataframe tbody tr th {\n",
       "        vertical-align: top;\n",
       "    }\n",
       "\n",
       "    .dataframe thead th {\n",
       "        text-align: right;\n",
       "    }\n",
       "</style>\n",
       "<table border=\"1\" class=\"dataframe\">\n",
       "  <thead>\n",
       "    <tr style=\"text-align: right;\">\n",
       "      <th></th>\n",
       "      <th>treatment_type</th>\n",
       "      <th>mean_of_survivors</th>\n",
       "    </tr>\n",
       "  </thead>\n",
       "  <tbody>\n",
       "    <tr>\n",
       "      <th>3</th>\n",
       "      <td>Surgery</td>\n",
       "      <td>22.149860</td>\n",
       "    </tr>\n",
       "    <tr>\n",
       "      <th>2</th>\n",
       "      <td>Radiation</td>\n",
       "      <td>22.055707</td>\n",
       "    </tr>\n",
       "  </tbody>\n",
       "</table>\n",
       "</div>"
      ],
      "text/plain": [
       "  treatment_type  mean_of_survivors\n",
       "3        Surgery          22.149860\n",
       "2      Radiation          22.055707"
      ]
     },
     "execution_count": 48,
     "metadata": {},
     "output_type": "execute_result"
    }
   ],
   "source": [
    "high_survival=data.groupby('treatment_type')['survived'].mean()*100\n",
    "high_survival=high_survival.reset_index(name='mean_of_survivors')\n",
    "print(\"\\nTOP 2 CANCER TREATMENT TYPES WHICH SHOW HIGHEST SURVIVAL RATES:\\n\")\n",
    "high_survival.sort_values(by='mean_of_survivors',ascending=False).head(2)"
   ]
  },
  {
   "cell_type": "markdown",
   "id": "03f4573a-9d1c-4c01-b8f3-263f0b3344d8",
   "metadata": {},
   "source": [
    "2) What treatment method is most commonly used, and does it vary by cancer stage?"
   ]
  },
  {
   "cell_type": "code",
   "execution_count": 58,
   "id": "422329d5-77ca-4e4a-85ac-c6e7bf3d035d",
   "metadata": {},
   "outputs": [
    {
     "name": "stdout",
     "output_type": "stream",
     "text": [
      "\n",
      "MOST COMMONLY USED TREATMENT TYPE\n",
      "\n"
     ]
    },
    {
     "data": {
      "text/html": [
       "<div>\n",
       "<style scoped>\n",
       "    .dataframe tbody tr th:only-of-type {\n",
       "        vertical-align: middle;\n",
       "    }\n",
       "\n",
       "    .dataframe tbody tr th {\n",
       "        vertical-align: top;\n",
       "    }\n",
       "\n",
       "    .dataframe thead th {\n",
       "        text-align: right;\n",
       "    }\n",
       "</style>\n",
       "<table border=\"1\" class=\"dataframe\">\n",
       "  <thead>\n",
       "    <tr style=\"text-align: right;\">\n",
       "      <th></th>\n",
       "      <th>treatment_type</th>\n",
       "      <th>count</th>\n",
       "    </tr>\n",
       "  </thead>\n",
       "  <tbody>\n",
       "    <tr>\n",
       "      <th>0</th>\n",
       "      <td>Chemotherapy</td>\n",
       "      <td>223262</td>\n",
       "    </tr>\n",
       "  </tbody>\n",
       "</table>\n",
       "</div>"
      ],
      "text/plain": [
       "  treatment_type   count\n",
       "0   Chemotherapy  223262"
      ]
     },
     "execution_count": 58,
     "metadata": {},
     "output_type": "execute_result"
    }
   ],
   "source": [
    "print(\"\\nMOST COMMONLY USED TREATMENT TYPE\\n\")\n",
    "data['treatment_type'].value_counts().reset_index(name=\"count\").sort_values(by='count',ascending=False).head(1)"
   ]
  },
  {
   "cell_type": "code",
   "execution_count": 11,
   "id": "bd40186f-058c-4ec9-a1be-045a715e9b96",
   "metadata": {},
   "outputs": [
    {
     "name": "stdout",
     "output_type": "stream",
     "text": [
      "\n"
     ]
    },
    {
     "data": {
      "text/plain": [
       "<Figure size 700x500 with 0 Axes>"
      ]
     },
     "metadata": {},
     "output_type": "display_data"
    },
    {
     "data": {
      "image/png": "[encoded data removed]",
      "text/plain": [
       "<Figure size 640x480 with 1 Axes>"
      ]
     },
     "metadata": {},
     "output_type": "display_data"
    }
   ],
   "source": [
    "# showing how treatment types vary across different cancer stages\n",
    "\n",
    "treatment_by_stage=pd.crosstab(data['treatment_type'],data['cancer_stage'],normalize='index')*100\n",
    "plt.figure(figsize=(7,5))\n",
    "treatment_by_stage.plot(kind='bar',cmap='plasma')\n",
    "plt.ylabel(\"distribution of cancer stage\")\n",
    "print()\n",
    "plt.show()"
   ]
  },
  {
   "cell_type": "markdown",
   "id": "00e582b4-51cc-47e1-876f-3cb19702b6b9",
   "metadata": {},
   "source": [
    "3) What is the survival rate for patients receiving combination treatment vs. single treatment methods?"
   ]
  },
  {
   "cell_type": "code",
   "execution_count": 13,
   "id": "c473d555-05e3-4fea-a3f0-2df676572c29",
   "metadata": {},
   "outputs": [
    {
     "name": "stdout",
     "output_type": "stream",
     "text": [
      "\n",
      "survival rate for patients receiving combination treatment vs. single treatment methods\n",
      "\n"
     ]
    },
    {
     "data": {
      "text/html": [
       "<div>\n",
       "<style scoped>\n",
       "    .dataframe tbody tr th:only-of-type {\n",
       "        vertical-align: middle;\n",
       "    }\n",
       "\n",
       "    .dataframe tbody tr th {\n",
       "        vertical-align: top;\n",
       "    }\n",
       "\n",
       "    .dataframe thead th {\n",
       "        text-align: right;\n",
       "    }\n",
       "</style>\n",
       "<table border=\"1\" class=\"dataframe\">\n",
       "  <thead>\n",
       "    <tr style=\"text-align: right;\">\n",
       "      <th></th>\n",
       "      <th>treatment_type</th>\n",
       "      <th>survival_rate</th>\n",
       "    </tr>\n",
       "  </thead>\n",
       "  <tbody>\n",
       "    <tr>\n",
       "      <th>0</th>\n",
       "      <td>combined</td>\n",
       "      <td>22.0</td>\n",
       "    </tr>\n",
       "    <tr>\n",
       "      <th>1</th>\n",
       "      <td>single</td>\n",
       "      <td>22.0</td>\n",
       "    </tr>\n",
       "  </tbody>\n",
       "</table>\n",
       "</div>"
      ],
      "text/plain": [
       "  treatment_type  survival_rate\n",
       "0       combined           22.0\n",
       "1         single           22.0"
      ]
     },
     "execution_count": 13,
     "metadata": {},
     "output_type": "execute_result"
    }
   ],
   "source": [
    "treatment_group=data['treatment_type'].apply(lambda x:'combined' if x=='Combined' else 'single')\n",
    "df=pd.DataFrame(treatment_group)\n",
    "df['survived']=data['survived']\n",
    "survival_rate=df.groupby('treatment_type')['survived'].mean()*100\n",
    "survival_rate=survival_rate.reset_index(name='survival_rate').round()\n",
    "print(\"\\nsurvival rate for patients receiving combination treatment vs. single treatment methods\\n\")\n",
    "survival_rate"
   ]
  },
  {
   "cell_type": "markdown",
   "id": "3e06df15-be0e-49f2-a40a-80b67586ec8c",
   "metadata": {},
   "source": [
    "4) What is the average treatment duration from diagnosis to completion, and how does this impact survival?"
   ]
  },
  {
   "cell_type": "markdown",
   "id": "522b242f-2b49-4e99-bacd-3d426583ad1d",
   "metadata": {},
   "source": [
    "firstly calculating avg duration based on treatment type"
   ]
  },
  {
   "cell_type": "code",
   "execution_count": 14,
   "id": "d470b27f-ff2d-47bf-8397-7c24612843ed",
   "metadata": {},
   "outputs": [],
   "source": [
    "avg_duration=data.groupby('treatment_type')['treatment_duration'].mean().round(3).reset_index(name='average_duration(days)')"
   ]
  },
  {
   "cell_type": "markdown",
   "id": "0b814336-b5ad-42d1-a2d7-595b106c8dd5",
   "metadata": {},
   "source": [
    "then ,calculation survival rates based on treatment types"
   ]
  },
  {
   "cell_type": "code",
   "execution_count": 15,
   "id": "1bcc5d7d-3e03-4598-a32b-5741fe538bd3",
   "metadata": {},
   "outputs": [],
   "source": [
    "survival_by_treatment=data.groupby('treatment_type')['survived'].mean()*100\n",
    "survival_by_treatment=survival_by_treatment.reset_index(name='survival_rate(%)').round(2)"
   ]
  },
  {
   "cell_type": "markdown",
   "id": "9e601901-6a65-4406-8496-260d5d8f1a0e",
   "metadata": {},
   "source": [
    "finally merging both dataframes based on treatment types"
   ]
  },
  {
   "cell_type": "code",
   "execution_count": 16,
   "id": "1fb765a8-ccda-4dd3-8e0f-3925f33b66a8",
   "metadata": {},
   "outputs": [
    {
     "name": "stdout",
     "output_type": "stream",
     "text": [
      "\n",
      "relating survival probability with treatment type and its duration\n",
      "\n"
     ]
    },
    {
     "data": {
      "text/html": [
       "<div>\n",
       "<style scoped>\n",
       "    .dataframe tbody tr th:only-of-type {\n",
       "        vertical-align: middle;\n",
       "    }\n",
       "\n",
       "    .dataframe tbody tr th {\n",
       "        vertical-align: top;\n",
       "    }\n",
       "\n",
       "    .dataframe thead th {\n",
       "        text-align: right;\n",
       "    }\n",
       "</style>\n",
       "<table border=\"1\" class=\"dataframe\">\n",
       "  <thead>\n",
       "    <tr style=\"text-align: right;\">\n",
       "      <th></th>\n",
       "      <th>treatment_type</th>\n",
       "      <th>average_duration(days)</th>\n",
       "      <th>survival_rate(%)</th>\n",
       "    </tr>\n",
       "  </thead>\n",
       "  <tbody>\n",
       "    <tr>\n",
       "      <th>0</th>\n",
       "      <td>Chemotherapy</td>\n",
       "      <td>458.395</td>\n",
       "      <td>21.87</td>\n",
       "    </tr>\n",
       "    <tr>\n",
       "      <th>1</th>\n",
       "      <td>Combined</td>\n",
       "      <td>457.815</td>\n",
       "      <td>22.01</td>\n",
       "    </tr>\n",
       "    <tr>\n",
       "      <th>2</th>\n",
       "      <td>Radiation</td>\n",
       "      <td>458.403</td>\n",
       "      <td>22.06</td>\n",
       "    </tr>\n",
       "    <tr>\n",
       "      <th>3</th>\n",
       "      <td>Surgery</td>\n",
       "      <td>457.737</td>\n",
       "      <td>22.15</td>\n",
       "    </tr>\n",
       "  </tbody>\n",
       "</table>\n",
       "</div>"
      ],
      "text/plain": [
       "  treatment_type  average_duration(days)  survival_rate(%)\n",
       "0   Chemotherapy                 458.395             21.87\n",
       "1       Combined                 457.815             22.01\n",
       "2      Radiation                 458.403             22.06\n",
       "3        Surgery                 457.737             22.15"
      ]
     },
     "execution_count": 16,
     "metadata": {},
     "output_type": "execute_result"
    }
   ],
   "source": [
    "print(\"\\nrelating survival probability with treatment type and its duration\\n\")\n",
    "avg_duration.merge(survival_by_treatment,on='treatment_type')"
   ]
  },
  {
   "cell_type": "markdown",
   "id": "dbec9564-0508-48e2-9a4c-5b29c725909f",
   "metadata": {},
   "source": [
    "5) Are treatment durations shorter in patient profiles or countries with higher survival rates?"
   ]
  },
  {
   "cell_type": "markdown",
   "id": "2e3fa842-dae5-4342-bf9e-c9890314cfe4",
   "metadata": {},
   "source": [
    "creating patient profile "
   ]
  },
  {
   "cell_type": "code",
   "execution_count": 121,
   "id": "87aa76fe-cfee-4433-a7ac-478ea9f11b56",
   "metadata": {},
   "outputs": [
    {
     "data": {
      "text/html": [
       "<div>\n",
       "<style scoped>\n",
       "    .dataframe tbody tr th:only-of-type {\n",
       "        vertical-align: middle;\n",
       "    }\n",
       "\n",
       "    .dataframe tbody tr th {\n",
       "        vertical-align: top;\n",
       "    }\n",
       "\n",
       "    .dataframe thead th {\n",
       "        text-align: right;\n",
       "    }\n",
       "</style>\n",
       "<table border=\"1\" class=\"dataframe\">\n",
       "  <thead>\n",
       "    <tr style=\"text-align: right;\">\n",
       "      <th></th>\n",
       "      <th>age_group</th>\n",
       "      <th>cancer_stage</th>\n",
       "      <th>survived</th>\n",
       "      <th>treatment_duration</th>\n",
       "    </tr>\n",
       "  </thead>\n",
       "  <tbody>\n",
       "    <tr>\n",
       "      <th>0</th>\n",
       "      <td>0-40</td>\n",
       "      <td>Stage I</td>\n",
       "      <td>21.77</td>\n",
       "      <td>512.70</td>\n",
       "    </tr>\n",
       "    <tr>\n",
       "      <th>1</th>\n",
       "      <td>0-40</td>\n",
       "      <td>Stage II</td>\n",
       "      <td>21.76</td>\n",
       "      <td>476.94</td>\n",
       "    </tr>\n",
       "    <tr>\n",
       "      <th>2</th>\n",
       "      <td>0-40</td>\n",
       "      <td>Stage III</td>\n",
       "      <td>21.77</td>\n",
       "      <td>440.85</td>\n",
       "    </tr>\n",
       "    <tr>\n",
       "      <th>3</th>\n",
       "      <td>0-40</td>\n",
       "      <td>Stage IV</td>\n",
       "      <td>21.64</td>\n",
       "      <td>403.70</td>\n",
       "    </tr>\n",
       "    <tr>\n",
       "      <th>4</th>\n",
       "      <td>41-60</td>\n",
       "      <td>Stage I</td>\n",
       "      <td>21.89</td>\n",
       "      <td>512.41</td>\n",
       "    </tr>\n",
       "    <tr>\n",
       "      <th>5</th>\n",
       "      <td>41-60</td>\n",
       "      <td>Stage II</td>\n",
       "      <td>22.05</td>\n",
       "      <td>475.79</td>\n",
       "    </tr>\n",
       "    <tr>\n",
       "      <th>6</th>\n",
       "      <td>41-60</td>\n",
       "      <td>Stage III</td>\n",
       "      <td>22.09</td>\n",
       "      <td>440.45</td>\n",
       "    </tr>\n",
       "    <tr>\n",
       "      <th>7</th>\n",
       "      <td>41-60</td>\n",
       "      <td>Stage IV</td>\n",
       "      <td>22.16</td>\n",
       "      <td>403.00</td>\n",
       "    </tr>\n",
       "    <tr>\n",
       "      <th>8</th>\n",
       "      <td>61-80</td>\n",
       "      <td>Stage I</td>\n",
       "      <td>21.64</td>\n",
       "      <td>513.11</td>\n",
       "    </tr>\n",
       "    <tr>\n",
       "      <th>9</th>\n",
       "      <td>61-80</td>\n",
       "      <td>Stage II</td>\n",
       "      <td>22.26</td>\n",
       "      <td>475.81</td>\n",
       "    </tr>\n",
       "    <tr>\n",
       "      <th>10</th>\n",
       "      <td>61-80</td>\n",
       "      <td>Stage III</td>\n",
       "      <td>22.07</td>\n",
       "      <td>439.96</td>\n",
       "    </tr>\n",
       "    <tr>\n",
       "      <th>11</th>\n",
       "      <td>61-80</td>\n",
       "      <td>Stage IV</td>\n",
       "      <td>22.21</td>\n",
       "      <td>404.68</td>\n",
       "    </tr>\n",
       "    <tr>\n",
       "      <th>12</th>\n",
       "      <td>81+</td>\n",
       "      <td>Stage I</td>\n",
       "      <td>22.79</td>\n",
       "      <td>512.78</td>\n",
       "    </tr>\n",
       "    <tr>\n",
       "      <th>13</th>\n",
       "      <td>81+</td>\n",
       "      <td>Stage II</td>\n",
       "      <td>22.11</td>\n",
       "      <td>476.19</td>\n",
       "    </tr>\n",
       "    <tr>\n",
       "      <th>14</th>\n",
       "      <td>81+</td>\n",
       "      <td>Stage III</td>\n",
       "      <td>21.04</td>\n",
       "      <td>436.08</td>\n",
       "    </tr>\n",
       "    <tr>\n",
       "      <th>15</th>\n",
       "      <td>81+</td>\n",
       "      <td>Stage IV</td>\n",
       "      <td>21.94</td>\n",
       "      <td>404.26</td>\n",
       "    </tr>\n",
       "  </tbody>\n",
       "</table>\n",
       "</div>"
      ],
      "text/plain": [
       "   age_group cancer_stage  survived  treatment_duration\n",
       "0       0-40      Stage I     21.77              512.70\n",
       "1       0-40     Stage II     21.76              476.94\n",
       "2       0-40    Stage III     21.77              440.85\n",
       "3       0-40     Stage IV     21.64              403.70\n",
       "4      41-60      Stage I     21.89              512.41\n",
       "5      41-60     Stage II     22.05              475.79\n",
       "6      41-60    Stage III     22.09              440.45\n",
       "7      41-60     Stage IV     22.16              403.00\n",
       "8      61-80      Stage I     21.64              513.11\n",
       "9      61-80     Stage II     22.26              475.81\n",
       "10     61-80    Stage III     22.07              439.96\n",
       "11     61-80     Stage IV     22.21              404.68\n",
       "12       81+      Stage I     22.79              512.78\n",
       "13       81+     Stage II     22.11              476.19\n",
       "14       81+    Stage III     21.04              436.08\n",
       "15       81+     Stage IV     21.94              404.26"
      ]
     },
     "execution_count": 121,
     "metadata": {},
     "output_type": "execute_result"
    }
   ],
   "source": [
    "profile=data.groupby(['age_group','cancer_stage'],observed=True).agg({'survived':'mean','treatment_duration':'mean' }).reset_index()\n",
    "profile['survived']=(profile['survived']*100).round(2)\n",
    "profile['treatment_duration']=profile['treatment_duration'].round(2)\n",
    "profile"
   ]
  },
  {
   "cell_type": "markdown",
   "id": "bad38132-7e61-4f2d-96bd-7d1f20399193",
   "metadata": {},
   "source": [
    "creating country wise patient statistics"
   ]
  },
  {
   "cell_type": "code",
   "execution_count": 123,
   "id": "4243ae4c-2a97-4e41-9180-691f852718f3",
   "metadata": {},
   "outputs": [
    {
     "data": {
      "text/html": [
       "<div>\n",
       "<style scoped>\n",
       "    .dataframe tbody tr th:only-of-type {\n",
       "        vertical-align: middle;\n",
       "    }\n",
       "\n",
       "    .dataframe tbody tr th {\n",
       "        vertical-align: top;\n",
       "    }\n",
       "\n",
       "    .dataframe thead th {\n",
       "        text-align: right;\n",
       "    }\n",
       "</style>\n",
       "<table border=\"1\" class=\"dataframe\">\n",
       "  <thead>\n",
       "    <tr style=\"text-align: right;\">\n",
       "      <th></th>\n",
       "      <th>country</th>\n",
       "      <th>survived</th>\n",
       "      <th>treatment_duration</th>\n",
       "    </tr>\n",
       "  </thead>\n",
       "  <tbody>\n",
       "    <tr>\n",
       "      <th>0</th>\n",
       "      <td>Austria</td>\n",
       "      <td>21.79</td>\n",
       "      <td>458.62</td>\n",
       "    </tr>\n",
       "    <tr>\n",
       "      <th>1</th>\n",
       "      <td>Belgium</td>\n",
       "      <td>21.96</td>\n",
       "      <td>457.98</td>\n",
       "    </tr>\n",
       "    <tr>\n",
       "      <th>2</th>\n",
       "      <td>Bulgaria</td>\n",
       "      <td>22.04</td>\n",
       "      <td>458.92</td>\n",
       "    </tr>\n",
       "    <tr>\n",
       "      <th>3</th>\n",
       "      <td>Croatia</td>\n",
       "      <td>21.99</td>\n",
       "      <td>457.79</td>\n",
       "    </tr>\n",
       "    <tr>\n",
       "      <th>4</th>\n",
       "      <td>Cyprus</td>\n",
       "      <td>22.04</td>\n",
       "      <td>457.46</td>\n",
       "    </tr>\n",
       "    <tr>\n",
       "      <th>5</th>\n",
       "      <td>Czech Republic</td>\n",
       "      <td>22.29</td>\n",
       "      <td>458.90</td>\n",
       "    </tr>\n",
       "    <tr>\n",
       "      <th>6</th>\n",
       "      <td>Denmark</td>\n",
       "      <td>21.94</td>\n",
       "      <td>457.58</td>\n",
       "    </tr>\n",
       "    <tr>\n",
       "      <th>7</th>\n",
       "      <td>Estonia</td>\n",
       "      <td>22.31</td>\n",
       "      <td>458.31</td>\n",
       "    </tr>\n",
       "    <tr>\n",
       "      <th>8</th>\n",
       "      <td>Finland</td>\n",
       "      <td>22.25</td>\n",
       "      <td>458.73</td>\n",
       "    </tr>\n",
       "    <tr>\n",
       "      <th>9</th>\n",
       "      <td>France</td>\n",
       "      <td>21.58</td>\n",
       "      <td>457.47</td>\n",
       "    </tr>\n",
       "    <tr>\n",
       "      <th>10</th>\n",
       "      <td>Germany</td>\n",
       "      <td>22.10</td>\n",
       "      <td>459.10</td>\n",
       "    </tr>\n",
       "    <tr>\n",
       "      <th>11</th>\n",
       "      <td>Greece</td>\n",
       "      <td>21.95</td>\n",
       "      <td>456.38</td>\n",
       "    </tr>\n",
       "    <tr>\n",
       "      <th>12</th>\n",
       "      <td>Hungary</td>\n",
       "      <td>21.99</td>\n",
       "      <td>458.36</td>\n",
       "    </tr>\n",
       "    <tr>\n",
       "      <th>13</th>\n",
       "      <td>Ireland</td>\n",
       "      <td>21.90</td>\n",
       "      <td>456.86</td>\n",
       "    </tr>\n",
       "    <tr>\n",
       "      <th>14</th>\n",
       "      <td>Italy</td>\n",
       "      <td>21.65</td>\n",
       "      <td>458.10</td>\n",
       "    </tr>\n",
       "    <tr>\n",
       "      <th>15</th>\n",
       "      <td>Latvia</td>\n",
       "      <td>22.25</td>\n",
       "      <td>458.07</td>\n",
       "    </tr>\n",
       "    <tr>\n",
       "      <th>16</th>\n",
       "      <td>Lithuania</td>\n",
       "      <td>21.90</td>\n",
       "      <td>458.88</td>\n",
       "    </tr>\n",
       "    <tr>\n",
       "      <th>17</th>\n",
       "      <td>Luxembourg</td>\n",
       "      <td>22.21</td>\n",
       "      <td>459.50</td>\n",
       "    </tr>\n",
       "    <tr>\n",
       "      <th>18</th>\n",
       "      <td>Malta</td>\n",
       "      <td>22.26</td>\n",
       "      <td>458.91</td>\n",
       "    </tr>\n",
       "    <tr>\n",
       "      <th>19</th>\n",
       "      <td>Netherlands</td>\n",
       "      <td>22.26</td>\n",
       "      <td>457.02</td>\n",
       "    </tr>\n",
       "    <tr>\n",
       "      <th>20</th>\n",
       "      <td>Poland</td>\n",
       "      <td>22.10</td>\n",
       "      <td>456.26</td>\n",
       "    </tr>\n",
       "    <tr>\n",
       "      <th>21</th>\n",
       "      <td>Portugal</td>\n",
       "      <td>22.20</td>\n",
       "      <td>457.97</td>\n",
       "    </tr>\n",
       "    <tr>\n",
       "      <th>22</th>\n",
       "      <td>Romania</td>\n",
       "      <td>22.20</td>\n",
       "      <td>458.21</td>\n",
       "    </tr>\n",
       "    <tr>\n",
       "      <th>23</th>\n",
       "      <td>Slovakia</td>\n",
       "      <td>21.74</td>\n",
       "      <td>458.17</td>\n",
       "    </tr>\n",
       "    <tr>\n",
       "      <th>24</th>\n",
       "      <td>Slovenia</td>\n",
       "      <td>22.04</td>\n",
       "      <td>459.23</td>\n",
       "    </tr>\n",
       "    <tr>\n",
       "      <th>25</th>\n",
       "      <td>Spain</td>\n",
       "      <td>22.09</td>\n",
       "      <td>456.94</td>\n",
       "    </tr>\n",
       "    <tr>\n",
       "      <th>26</th>\n",
       "      <td>Sweden</td>\n",
       "      <td>21.61</td>\n",
       "      <td>458.68</td>\n",
       "    </tr>\n",
       "  </tbody>\n",
       "</table>\n",
       "</div>"
      ],
      "text/plain": [
       "           country  survived  treatment_duration\n",
       "0          Austria     21.79              458.62\n",
       "1          Belgium     21.96              457.98\n",
       "2         Bulgaria     22.04              458.92\n",
       "3          Croatia     21.99              457.79\n",
       "4           Cyprus     22.04              457.46\n",
       "5   Czech Republic     22.29              458.90\n",
       "6          Denmark     21.94              457.58\n",
       "7          Estonia     22.31              458.31\n",
       "8          Finland     22.25              458.73\n",
       "9           France     21.58              457.47\n",
       "10         Germany     22.10              459.10\n",
       "11          Greece     21.95              456.38\n",
       "12         Hungary     21.99              458.36\n",
       "13         Ireland     21.90              456.86\n",
       "14           Italy     21.65              458.10\n",
       "15          Latvia     22.25              458.07\n",
       "16       Lithuania     21.90              458.88\n",
       "17      Luxembourg     22.21              459.50\n",
       "18           Malta     22.26              458.91\n",
       "19     Netherlands     22.26              457.02\n",
       "20          Poland     22.10              456.26\n",
       "21        Portugal     22.20              457.97\n",
       "22         Romania     22.20              458.21\n",
       "23        Slovakia     21.74              458.17\n",
       "24        Slovenia     22.04              459.23\n",
       "25           Spain     22.09              456.94\n",
       "26          Sweden     21.61              458.68"
      ]
     },
     "execution_count": 123,
     "metadata": {},
     "output_type": "execute_result"
    }
   ],
   "source": [
    "country_stats=data.groupby(['country'],observed=True).agg({'survived':'mean','treatment_duration':'mean' }).reset_index()\n",
    "country_stats['survived']=(country_stats['survived']*100).round(2)\n",
    "country_stats['treatment_duration']=country_stats['treatment_duration'].round(2)\n",
    "country_stats"
   ]
  },
  {
   "cell_type": "markdown",
   "id": "318e4e35-5e1e-43f8-949d-18d9bf1f4526",
   "metadata": {},
   "source": [
    "treatment duration by country vs avg duration"
   ]
  },
  {
   "cell_type": "code",
   "execution_count": 145,
   "id": "6db79abf-b5b6-4018-891a-aff20e5adf24",
   "metadata": {},
   "outputs": [
    {
     "data": {
      "image/png": "[encoded data removed]",
      "text/plain": [
       "<Figure size 800x800 with 1 Axes>"
      ]
     },
     "metadata": {},
     "output_type": "display_data"
    }
   ],
   "source": [
    "plt.figure(figsize=(8,8))\n",
    "sns.scatterplot(x='treatment_duration',y='survived',hue='country',data=country_stats)\n",
    "plt.title('survival rate vs average treatment duration by country')\n",
    "plt.xlabel('average treatment duration')\n",
    "plt.ylabel('survival rate')\n",
    "plt.show()"
   ]
  },
  {
   "cell_type": "markdown",
   "id": "20ee5d17-718e-4c12-919f-c8f9bcff6d43",
   "metadata": {},
   "source": [
    "survival rate vs avg duration  by patient profile"
   ]
  },
  {
   "cell_type": "code",
   "execution_count": 146,
   "id": "0f976b05-338d-4e78-82fe-0bb469a31bbb",
   "metadata": {},
   "outputs": [
    {
     "data": {
      "image/png": "[encoded data removed]",
      "text/plain": [
       "<Figure size 800x800 with 1 Axes>"
      ]
     },
     "metadata": {},
     "output_type": "display_data"
    }
   ],
   "source": [
    "plt.figure(figsize=(8,8))\n",
    "sns.scatterplot(x='treatment_duration',y='survived',hue='age_group',data=profile)\n",
    "plt.title('survival rate vs average treatment duration by patient profile')\n",
    "plt.xlabel('average treatment duration')\n",
    "plt.ylabel('survival rate')\n",
    "plt.show()"
   ]
  },
  {
   "cell_type": "markdown",
   "id": "68a15dc9-e667-4885-b245-afbb0696ae65",
   "metadata": {},
   "source": [
    "IV ) LIFE STYLE FACTORS AND RISK ASSESSMENT"
   ]
  },
  {
   "cell_type": "markdown",
   "id": "d3e50fd6-9e4c-4905-a8f5-01f1cc7f5670",
   "metadata": {},
   "source": [
    "1) How does smoking status correlate with survival rates and cancer stage severity?"
   ]
  },
  {
   "cell_type": "markdown",
   "id": "683dac0d-336b-4f98-909e-cc6ea4707389",
   "metadata": {},
   "source": [
    "dataframe relating smoking status and survival rates"
   ]
  },
  {
   "cell_type": "code",
   "execution_count": 17,
   "id": "2b77e646-8f8c-4f98-b9ae-28ee0264d049",
   "metadata": {},
   "outputs": [
    {
     "name": "stdout",
     "output_type": "stream",
     "text": [
      "\n",
      "Survival Rates by Smoking Status:\n",
      "\n",
      "    smoking_status  survival_rate\n",
      "0  Current Smoker      22.033998\n",
      "1   Former Smoker      21.964074\n",
      "2    Never Smoked      22.091034\n",
      "3  Passive Smoker      22.002509\n"
     ]
    }
   ],
   "source": [
    "smoke_survival=data.groupby('smoking_status')['survived'].mean()*100\n",
    "smoke_survival=smoke_survival.reset_index(name='survival_rate')\n",
    "print(\"\\nSurvival Rates by Smoking Status:\\n\\n\",smoke_survival)"
   ]
  },
  {
   "cell_type": "code",
   "execution_count": 18,
   "id": "9777189a-cc66-4245-bc36-3bb9ab16eb03",
   "metadata": {},
   "outputs": [
    {
     "name": "stdout",
     "output_type": "stream",
     "text": [
      "\n",
      "Cancer Stage Distribution by Smoking Status (%):\n",
      "\n",
      " cancer_stage      Stage I   Stage II  Stage III   Stage IV\n",
      "smoking_status                                            \n",
      "Current Smoker  25.046643  24.979495  25.106130  24.867732\n",
      "Former Smoker   24.973333  25.069200  24.952629  25.004838\n",
      "Never Smoked    25.034680  24.900449  24.950730  25.114141\n",
      "Passive Smoker  24.952727  24.989470  25.032935  25.024869\n"
     ]
    }
   ],
   "source": [
    "smoke_cancer_stage=pd.crosstab(data['smoking_status'],data['cancer_stage'],normalize='index')*100\n",
    "print(\"\\nCancer Stage Distribution by Smoking Status (%):\\n\\n\",smoke_cancer_stage)"
   ]
  },
  {
   "cell_type": "markdown",
   "id": "7e9d38f6-8ecb-4fa1-b0c0-0293d40b39ee",
   "metadata": {},
   "source": [
    "2) How do different BMI levels affect survival rates and post-treatment outcomes?"
   ]
  },
  {
   "cell_type": "markdown",
   "id": "c0a587a1-5e2e-4718-aa7f-d59cd47e0607",
   "metadata": {},
   "source": [
    "creating a dataframe containing bmi groups and survied status"
   ]
  },
  {
   "cell_type": "code",
   "execution_count": 42,
   "id": "515527b8-a41d-4c86-9ad8-2d7c117e6c7f",
   "metadata": {},
   "outputs": [
    {
     "data": {
      "text/html": [
       "<div>\n",
       "<style scoped>\n",
       "    .dataframe tbody tr th:only-of-type {\n",
       "        vertical-align: middle;\n",
       "    }\n",
       "\n",
       "    .dataframe tbody tr th {\n",
       "        vertical-align: top;\n",
       "    }\n",
       "\n",
       "    .dataframe thead th {\n",
       "        text-align: right;\n",
       "    }\n",
       "</style>\n",
       "<table border=\"1\" class=\"dataframe\">\n",
       "  <thead>\n",
       "    <tr style=\"text-align: right;\">\n",
       "      <th></th>\n",
       "      <th>bmi_category</th>\n",
       "      <th>survived</th>\n",
       "    </tr>\n",
       "  </thead>\n",
       "  <tbody>\n",
       "    <tr>\n",
       "      <th>0</th>\n",
       "      <td>Overweight</td>\n",
       "      <td>0</td>\n",
       "    </tr>\n",
       "    <tr>\n",
       "      <th>1</th>\n",
       "      <td>Obese</td>\n",
       "      <td>1</td>\n",
       "    </tr>\n",
       "    <tr>\n",
       "      <th>2</th>\n",
       "      <td>Obese</td>\n",
       "      <td>0</td>\n",
       "    </tr>\n",
       "    <tr>\n",
       "      <th>3</th>\n",
       "      <td>Obese</td>\n",
       "      <td>0</td>\n",
       "    </tr>\n",
       "    <tr>\n",
       "      <th>4</th>\n",
       "      <td>Normal_weight</td>\n",
       "      <td>0</td>\n",
       "    </tr>\n",
       "    <tr>\n",
       "      <th>...</th>\n",
       "      <td>...</td>\n",
       "      <td>...</td>\n",
       "    </tr>\n",
       "    <tr>\n",
       "      <th>889995</th>\n",
       "      <td>Obese</td>\n",
       "      <td>0</td>\n",
       "    </tr>\n",
       "    <tr>\n",
       "      <th>889996</th>\n",
       "      <td>Normal_weight</td>\n",
       "      <td>0</td>\n",
       "    </tr>\n",
       "    <tr>\n",
       "      <th>889997</th>\n",
       "      <td>Obese</td>\n",
       "      <td>1</td>\n",
       "    </tr>\n",
       "    <tr>\n",
       "      <th>889998</th>\n",
       "      <td>Normal_weight</td>\n",
       "      <td>0</td>\n",
       "    </tr>\n",
       "    <tr>\n",
       "      <th>889999</th>\n",
       "      <td>Obese</td>\n",
       "      <td>0</td>\n",
       "    </tr>\n",
       "  </tbody>\n",
       "</table>\n",
       "<p>890000 rows × 2 columns</p>\n",
       "</div>"
      ],
      "text/plain": [
       "         bmi_category  survived\n",
       "0          Overweight         0\n",
       "1               Obese         1\n",
       "2               Obese         0\n",
       "3               Obese         0\n",
       "4       Normal_weight         0\n",
       "...               ...       ...\n",
       "889995          Obese         0\n",
       "889996  Normal_weight         0\n",
       "889997          Obese         1\n",
       "889998  Normal_weight         0\n",
       "889999          Obese         0\n",
       "\n",
       "[890000 rows x 2 columns]"
      ]
     },
     "execution_count": 42,
     "metadata": {},
     "output_type": "execute_result"
    }
   ],
   "source": [
    "d=pd.cut(data['bmi'],bins=[0, 18.5, 25, 30, 100], labels=['Underweight', 'Normal_weight', 'Overweight', 'Obese'],  right=False)\n",
    "d=pd.DataFrame(d)\n",
    "d['survived']=data['survived']\n",
    "d.columns=['bmi_category','survived']\n",
    "d"
   ]
  },
  {
   "cell_type": "markdown",
   "id": "0568364a-2e1e-4fd2-a2ad-c3c99c350608",
   "metadata": {},
   "source": [
    "calculating survival rates by bmi_group"
   ]
  },
  {
   "cell_type": "code",
   "execution_count": 58,
   "id": "e38f2d21-8ade-4d77-b6a9-d58b18a3b7cc",
   "metadata": {},
   "outputs": [
    {
     "data": {
      "text/plain": [
       "<Axes: xlabel='bmi_category', ylabel='survival rate'>"
      ]
     },
     "execution_count": 58,
     "metadata": {},
     "output_type": "execute_result"
    },
    {
     "data": {
      "image/png": "[encoded data removed]",
      "text/plain": [
       "<Figure size 600x300 with 1 Axes>"
      ]
     },
     "metadata": {},
     "output_type": "display_data"
    }
   ],
   "source": [
    "survival_bmi=d.groupby('bmi_category',observed=True)['survived'].mean()*100\n",
    "survival_bmi=survival_bmi.reset_index(name='survival rate')\n",
    "plt.figure(figsize=(6,3))\n",
    "sns.barplot(x='bmi_category',y='survival rate',data=survival_bmi,color='lightgreen')"
   ]
  },
  {
   "cell_type": "markdown",
   "id": "bb1bcd6b-d578-418b-aa0f-47c04e77321f",
   "metadata": {},
   "source": [
    "V) COMORBIDITIES AND HEALTH CONDITION"
   ]
  },
  {
   "cell_type": "markdown",
   "id": "b751902a-b18e-41ec-8949-d12870494a05",
   "metadata": {},
   "source": [
    "1) How do comorbidities like asthma, hypertension, or liver cirrhosis affect cancer stage and survival rates?"
   ]
  },
  {
   "cell_type": "markdown",
   "id": "61829f2e-4a74-4906-a721-f3859eefda7a",
   "metadata": {},
   "source": [
    "creating a comobordities data frame"
   ]
  },
  {
   "cell_type": "code",
   "execution_count": 87,
   "id": "c39b3ef0-7481-417e-adf6-1da7cab83a2d",
   "metadata": {},
   "outputs": [
    {
     "data": {
      "text/html": [
       "<div>\n",
       "<style scoped>\n",
       "    .dataframe tbody tr th:only-of-type {\n",
       "        vertical-align: middle;\n",
       "    }\n",
       "\n",
       "    .dataframe tbody tr th {\n",
       "        vertical-align: top;\n",
       "    }\n",
       "\n",
       "    .dataframe thead th {\n",
       "        text-align: right;\n",
       "    }\n",
       "</style>\n",
       "<table border=\"1\" class=\"dataframe\">\n",
       "  <thead>\n",
       "    <tr style=\"text-align: right;\">\n",
       "      <th></th>\n",
       "      <th>cirrhosis</th>\n",
       "      <th>cancer_stage</th>\n",
       "      <th>survived</th>\n",
       "      <th>comorbidity</th>\n",
       "      <th>has_comorbidity</th>\n",
       "    </tr>\n",
       "  </thead>\n",
       "  <tbody>\n",
       "    <tr>\n",
       "      <th>0</th>\n",
       "      <td>1</td>\n",
       "      <td>Stage I</td>\n",
       "      <td>0</td>\n",
       "      <td>cirrhosis</td>\n",
       "      <td>Yes</td>\n",
       "    </tr>\n",
       "    <tr>\n",
       "      <th>1</th>\n",
       "      <td>0</td>\n",
       "      <td>Stage III</td>\n",
       "      <td>1</td>\n",
       "      <td>cirrhosis</td>\n",
       "      <td>No</td>\n",
       "    </tr>\n",
       "    <tr>\n",
       "      <th>2</th>\n",
       "      <td>0</td>\n",
       "      <td>Stage III</td>\n",
       "      <td>0</td>\n",
       "      <td>cirrhosis</td>\n",
       "      <td>No</td>\n",
       "    </tr>\n",
       "    <tr>\n",
       "      <th>3</th>\n",
       "      <td>0</td>\n",
       "      <td>Stage I</td>\n",
       "      <td>0</td>\n",
       "      <td>cirrhosis</td>\n",
       "      <td>No</td>\n",
       "    </tr>\n",
       "    <tr>\n",
       "      <th>4</th>\n",
       "      <td>0</td>\n",
       "      <td>Stage I</td>\n",
       "      <td>0</td>\n",
       "      <td>cirrhosis</td>\n",
       "      <td>No</td>\n",
       "    </tr>\n",
       "    <tr>\n",
       "      <th>...</th>\n",
       "      <td>...</td>\n",
       "      <td>...</td>\n",
       "      <td>...</td>\n",
       "      <td>...</td>\n",
       "      <td>...</td>\n",
       "    </tr>\n",
       "    <tr>\n",
       "      <th>889995</th>\n",
       "      <td>1</td>\n",
       "      <td>Stage IV</td>\n",
       "      <td>0</td>\n",
       "      <td>cirrhosis</td>\n",
       "      <td>Yes</td>\n",
       "    </tr>\n",
       "    <tr>\n",
       "      <th>889996</th>\n",
       "      <td>0</td>\n",
       "      <td>Stage II</td>\n",
       "      <td>0</td>\n",
       "      <td>cirrhosis</td>\n",
       "      <td>No</td>\n",
       "    </tr>\n",
       "    <tr>\n",
       "      <th>889997</th>\n",
       "      <td>0</td>\n",
       "      <td>Stage III</td>\n",
       "      <td>1</td>\n",
       "      <td>cirrhosis</td>\n",
       "      <td>No</td>\n",
       "    </tr>\n",
       "    <tr>\n",
       "      <th>889998</th>\n",
       "      <td>0</td>\n",
       "      <td>Stage IV</td>\n",
       "      <td>0</td>\n",
       "      <td>cirrhosis</td>\n",
       "      <td>No</td>\n",
       "    </tr>\n",
       "    <tr>\n",
       "      <th>889999</th>\n",
       "      <td>0</td>\n",
       "      <td>Stage II</td>\n",
       "      <td>0</td>\n",
       "      <td>cirrhosis</td>\n",
       "      <td>No</td>\n",
       "    </tr>\n",
       "  </tbody>\n",
       "</table>\n",
       "<p>890000 rows × 5 columns</p>\n",
       "</div>"
      ],
      "text/plain": [
       "        cirrhosis cancer_stage  survived comorbidity has_comorbidity\n",
       "0               1      Stage I         0   cirrhosis             Yes\n",
       "1               0    Stage III         1   cirrhosis              No\n",
       "2               0    Stage III         0   cirrhosis              No\n",
       "3               0      Stage I         0   cirrhosis              No\n",
       "4               0      Stage I         0   cirrhosis              No\n",
       "...           ...          ...       ...         ...             ...\n",
       "889995          1     Stage IV         0   cirrhosis             Yes\n",
       "889996          0     Stage II         0   cirrhosis              No\n",
       "889997          0    Stage III         1   cirrhosis              No\n",
       "889998          0     Stage IV         0   cirrhosis              No\n",
       "889999          0     Stage II         0   cirrhosis              No\n",
       "\n",
       "[890000 rows x 5 columns]"
      ]
     },
     "execution_count": 87,
     "metadata": {},
     "output_type": "execute_result"
    }
   ],
   "source": [
    "comorbidities = ['asthma', 'hypertension', 'cirrhosis']\n",
    "lis= []\n",
    "for i in comorbidities:\n",
    "    temp = data[[i, 'cancer_stage', 'survived']].copy()\n",
    "    temp['comorbidity'] = i\n",
    "    temp['has_comorbidity'] = temp[i].map({1: 'Yes', 0: 'No'})\n",
    "    lis.append(temp[['comorbidity', 'has_comorbidity', 'cancer_stage', 'survived']])\n",
    "comorbidity_df = pd.concat(comorbidity_data)\n",
    "comorbidity_df"
   ]
  },
  {
   "cell_type": "markdown",
   "id": "7f6b4b38-2c2b-47be-899b-ef55e4263cac",
   "metadata": {},
   "source": [
    "visualizing comobordities vs survival rate"
   ]
  },
  {
   "cell_type": "code",
   "execution_count": 73,
   "id": "a160445a-a68c-45ce-a1e7-1ffdd89582a1",
   "metadata": {},
   "outputs": [
    {
     "data": {
      "image/png": "[encoded data removed]",
      "text/plain": [
       "<Figure size 300x300 with 1 Axes>"
      ]
     },
     "metadata": {},
     "output_type": "display_data"
    }
   ],
   "source": [
    "survival_rates = comorbidity_df.groupby(['comorbidity', 'has_comorbidity'])['survived'].mean() * 100\n",
    "survival_rates = survival_rates.round(1).reset_index(name='survival_rate')\n",
    "plt.figure(figsize=(3, 3))\n",
    "sns.barplot(x='has_comorbidity', y='survival_rate', hue='comorbidity', data=survival_rates)\n",
    "plt.title('Survival Rates by Comorbidity')\n",
    "plt.xlabel('Has Comorbidity')\n",
    "plt.ylabel('Survival Rate (%)')\n",
    "plt.ylim(0, 100)\n",
    "plt.show()"
   ]
  },
  {
   "cell_type": "markdown",
   "id": "ff050602-5635-4744-bc65-ae9b667c49dc",
   "metadata": {},
   "source": [
    "2) What are the survival rates for patients with multiple comorbidities compared to those with single conditions?"
   ]
  },
  {
   "cell_type": "code",
   "execution_count": 96,
   "id": "79e8ca96-86f3-4688-93f8-864f74a484d2",
   "metadata": {},
   "outputs": [
    {
     "data": {
      "text/html": [
       "<div>\n",
       "<style scoped>\n",
       "    .dataframe tbody tr th:only-of-type {\n",
       "        vertical-align: middle;\n",
       "    }\n",
       "\n",
       "    .dataframe tbody tr th {\n",
       "        vertical-align: top;\n",
       "    }\n",
       "\n",
       "    .dataframe thead th {\n",
       "        text-align: right;\n",
       "    }\n",
       "</style>\n",
       "<table border=\"1\" class=\"dataframe\">\n",
       "  <thead>\n",
       "    <tr style=\"text-align: right;\">\n",
       "      <th></th>\n",
       "      <th>comorbidity</th>\n",
       "      <th>has_comorbidity</th>\n",
       "      <th>cancer_stage</th>\n",
       "      <th>survived</th>\n",
       "      <th>comorbidity_count</th>\n",
       "      <th>comorbidity_group</th>\n",
       "    </tr>\n",
       "  </thead>\n",
       "  <tbody>\n",
       "    <tr>\n",
       "      <th>0</th>\n",
       "      <td>asthma</td>\n",
       "      <td>No</td>\n",
       "      <td>Stage I</td>\n",
       "      <td>0</td>\n",
       "      <td>1</td>\n",
       "      <td>Single</td>\n",
       "    </tr>\n",
       "    <tr>\n",
       "      <th>1</th>\n",
       "      <td>asthma</td>\n",
       "      <td>Yes</td>\n",
       "      <td>Stage III</td>\n",
       "      <td>1</td>\n",
       "      <td>2</td>\n",
       "      <td>Multiple</td>\n",
       "    </tr>\n",
       "    <tr>\n",
       "      <th>2</th>\n",
       "      <td>asthma</td>\n",
       "      <td>Yes</td>\n",
       "      <td>Stage III</td>\n",
       "      <td>0</td>\n",
       "      <td>2</td>\n",
       "      <td>Multiple</td>\n",
       "    </tr>\n",
       "    <tr>\n",
       "      <th>3</th>\n",
       "      <td>asthma</td>\n",
       "      <td>Yes</td>\n",
       "      <td>Stage I</td>\n",
       "      <td>0</td>\n",
       "      <td>2</td>\n",
       "      <td>Multiple</td>\n",
       "    </tr>\n",
       "    <tr>\n",
       "      <th>5</th>\n",
       "      <td>asthma</td>\n",
       "      <td>No</td>\n",
       "      <td>Stage I</td>\n",
       "      <td>0</td>\n",
       "      <td>1</td>\n",
       "      <td>Single</td>\n",
       "    </tr>\n",
       "    <tr>\n",
       "      <th>...</th>\n",
       "      <td>...</td>\n",
       "      <td>...</td>\n",
       "      <td>...</td>\n",
       "      <td>...</td>\n",
       "      <td>...</td>\n",
       "      <td>...</td>\n",
       "    </tr>\n",
       "    <tr>\n",
       "      <th>889992</th>\n",
       "      <td>cirrhosis</td>\n",
       "      <td>Yes</td>\n",
       "      <td>Stage II</td>\n",
       "      <td>0</td>\n",
       "      <td>3</td>\n",
       "      <td>Multiple</td>\n",
       "    </tr>\n",
       "    <tr>\n",
       "      <th>889993</th>\n",
       "      <td>cirrhosis</td>\n",
       "      <td>No</td>\n",
       "      <td>Stage IV</td>\n",
       "      <td>0</td>\n",
       "      <td>1</td>\n",
       "      <td>Single</td>\n",
       "    </tr>\n",
       "    <tr>\n",
       "      <th>889995</th>\n",
       "      <td>cirrhosis</td>\n",
       "      <td>Yes</td>\n",
       "      <td>Stage IV</td>\n",
       "      <td>0</td>\n",
       "      <td>3</td>\n",
       "      <td>Multiple</td>\n",
       "    </tr>\n",
       "    <tr>\n",
       "      <th>889997</th>\n",
       "      <td>cirrhosis</td>\n",
       "      <td>No</td>\n",
       "      <td>Stage III</td>\n",
       "      <td>1</td>\n",
       "      <td>1</td>\n",
       "      <td>Single</td>\n",
       "    </tr>\n",
       "    <tr>\n",
       "      <th>889998</th>\n",
       "      <td>cirrhosis</td>\n",
       "      <td>No</td>\n",
       "      <td>Stage IV</td>\n",
       "      <td>0</td>\n",
       "      <td>2</td>\n",
       "      <td>Multiple</td>\n",
       "    </tr>\n",
       "  </tbody>\n",
       "</table>\n",
       "<p>2294781 rows × 6 columns</p>\n",
       "</div>"
      ],
      "text/plain": [
       "       comorbidity has_comorbidity cancer_stage  survived  comorbidity_count  \\\n",
       "0           asthma              No      Stage I         0                  1   \n",
       "1           asthma             Yes    Stage III         1                  2   \n",
       "2           asthma             Yes    Stage III         0                  2   \n",
       "3           asthma             Yes      Stage I         0                  2   \n",
       "5           asthma              No      Stage I         0                  1   \n",
       "...            ...             ...          ...       ...                ...   \n",
       "889992   cirrhosis             Yes     Stage II         0                  3   \n",
       "889993   cirrhosis              No     Stage IV         0                  1   \n",
       "889995   cirrhosis             Yes     Stage IV         0                  3   \n",
       "889997   cirrhosis              No    Stage III         1                  1   \n",
       "889998   cirrhosis              No     Stage IV         0                  2   \n",
       "\n",
       "       comorbidity_group  \n",
       "0                 Single  \n",
       "1               Multiple  \n",
       "2               Multiple  \n",
       "3               Multiple  \n",
       "5                 Single  \n",
       "...                  ...  \n",
       "889992          Multiple  \n",
       "889993            Single  \n",
       "889995          Multiple  \n",
       "889997            Single  \n",
       "889998          Multiple  \n",
       "\n",
       "[2294781 rows x 6 columns]"
      ]
     },
     "execution_count": 96,
     "metadata": {},
     "output_type": "execute_result"
    }
   ],
   "source": [
    "comorbidity_df.loc[:, 'comorbidity_count'] = data[comorbidities].sum(axis=1)\n",
    "comorbidity_df['comorbidity_group'] = comorbidity_df['comorbidity_count'].apply(lambda x: 'Single' if x == 1 else 'Multiple')\n",
    "comorbidity_df"
   ]
  },
  {
   "cell_type": "markdown",
   "id": "c0ee56fb-982e-442d-a8df-7a3e66d32db9",
   "metadata": {},
   "source": [
    "survival rates by comorbidity"
   ]
  },
  {
   "cell_type": "code",
   "execution_count": 99,
   "id": "d928f100-c51b-4e6d-97eb-6b774aa454b1",
   "metadata": {},
   "outputs": [],
   "source": [
    "survival_rates = comorbidity_df.groupby(['comorbidity_group'])['survived'].mean() * 100\n",
    "survival_rates = survival_rates.round(1).reset_index(name='survival_rate')"
   ]
  },
  {
   "cell_type": "markdown",
   "id": "36c60d23-534e-4d72-b2e5-8d28cd65864c",
   "metadata": {},
   "source": [
    "Survival Rates by Comorbidity Group"
   ]
  },
  {
   "cell_type": "code",
   "execution_count": 110,
   "id": "82ecf759-6163-40da-ab97-6a54b84c91e9",
   "metadata": {},
   "outputs": [
    {
     "data": {
      "image/png": "[encoded data removed]",
      "text/plain": [
       "<Figure size 400x200 with 1 Axes>"
      ]
     },
     "metadata": {},
     "output_type": "display_data"
    }
   ],
   "source": [
    "plt.figure(figsize=(4, 2))\n",
    "sns.barplot(x='comorbidity_group', y='survival_rate', data=survival_rates, color='lightgreen')\n",
    "plt.title('Survival Rates: Single vs Multiple Comorbidities')\n",
    "plt.xlabel('Comorbidity Group')\n",
    "plt.ylabel('Survival Rate (%)')\n",
    "plt.ylim(0, 100)\n",
    "plt.show()"
   ]
  },
  {
   "cell_type": "markdown",
   "id": "76b211c3-751b-44e1-8223-18330f4b4c78",
   "metadata": {},
   "source": [
    "VI) FAMILY HISTORY AND GENETIC FACTORS"
   ]
  },
  {
   "cell_type": "markdown",
   "id": "6f542a7b-da07-480b-9c6d-11e3c32106d0",
   "metadata": {},
   "source": [
    "1) Does family history of cancer lead to diagnosis at earlier ages, and what are their survival rates?"
   ]
  },
  {
   "cell_type": "markdown",
   "id": "46a13d3d-4e21-4702-ba94-6cb787f5d1f3",
   "metadata": {},
   "source": [
    "calculating mean age by family history"
   ]
  },
  {
   "cell_type": "code",
   "execution_count": 24,
   "id": "056e2bcc-eec4-4513-b3ba-80c8a9cfad42",
   "metadata": {},
   "outputs": [
    {
     "name": "stdout",
     "output_type": "stream",
     "text": [
      "  family_history  mean_age\n",
      "0             No     55.02\n",
      "1            Yes     55.00 \n",
      "\n",
      "\n"
     ]
    },
    {
     "data": {
      "image/png": "[encoded data removed]",
      "text/plain": [
       "<Figure size 500x300 with 1 Axes>"
      ]
     },
     "metadata": {},
     "output_type": "display_data"
    }
   ],
   "source": [
    "mean_age_by_family_history=data.groupby('family_history')['age'].mean().round(2).reset_index(name='mean_age')\n",
    "print(mean_age_by_family_history,\"\\n\\n\")\n",
    "\n",
    "plt.figure(figsize=(5,3))\n",
    "sns.scatterplot(x='family_history', y='mean_age', data=mean_age_by_family_history,hue=\"family_history\")\n",
    "plt.title('Age at Diagnosis by Family History of Cancer')\n",
    "plt.xlabel('Family History of Cancer')\n",
    "plt.ylabel('Age at Diagnosis')\n",
    "plt.show()"
   ]
  },
  {
   "cell_type": "markdown",
   "id": "3644f9e4-4bf9-4b3d-b0fb-5e18c3e64164",
   "metadata": {},
   "source": [
    "calculating survival rates by family history"
   ]
  },
  {
   "cell_type": "markdown",
   "id": "7d68f6f0-3c7a-4900-9bc2-751d7e3b4a59",
   "metadata": {},
   "source": [
    "calculating survival rates by family history"
   ]
  },
  {
   "cell_type": "code",
   "execution_count": 30,
   "id": "aae46c36-85e3-493d-b0fb-3a2d560e85f6",
   "metadata": {},
   "outputs": [
    {
     "name": "stdout",
     "output_type": "stream",
     "text": [
      "  family_history  survival_rate\n",
      "0             No          21.97\n",
      "1            Yes          22.08 \n",
      "\n",
      "\n"
     ]
    },
    {
     "data": {
      "image/png": "[encoded data removed]",
      "text/plain": [
       "<Figure size 400x400 with 1 Axes>"
      ]
     },
     "metadata": {},
     "output_type": "display_data"
    }
   ],
   "source": [
    "survival_by_family_history=data.groupby('family_history')['survived'].mean()*100\n",
    "survival_by_family_history=survival_by_family_history.round(2).reset_index(name='survival_rate')\n",
    "print(survival_by_family_history,'\\n\\n')\n",
    "\n",
    "plt.figure(figsize=(4,4))\n",
    "sns.scatterplot(x='family_history', y='survival_rate', data=survival_by_family_history, hue='family_history')\n",
    "plt.title('Survival Rates by Family History of Cancer')\n",
    "plt.xlabel('Family History of Cancer')\n",
    "plt.ylabel('Survival Rate (%)')\n",
    "plt.ylim(0, 100)\n",
    "plt.show()"
   ]
  },
  {
   "cell_type": "markdown",
   "id": "78d5183c-f154-48ef-bed2-6a48b398cd29",
   "metadata": {},
   "source": [
    "2) Do patients with family history tend to be diagnosed at earlier stages compared to those without?"
   ]
  },
  {
   "cell_type": "markdown",
   "id": "4decffd7-066b-4208-a374-a8bdeb4339dd",
   "metadata": {},
   "source": [
    "creating a data frame showing relationship bw family history and cancer stages"
   ]
  },
  {
   "cell_type": "code",
   "execution_count": 32,
   "id": "65146d31-f9f7-4c5c-a485-ff618ae4f29c",
   "metadata": {},
   "outputs": [
    {
     "data": {
      "text/html": [
       "<div>\n",
       "<style scoped>\n",
       "    .dataframe tbody tr th:only-of-type {\n",
       "        vertical-align: middle;\n",
       "    }\n",
       "\n",
       "    .dataframe tbody tr th {\n",
       "        vertical-align: top;\n",
       "    }\n",
       "\n",
       "    .dataframe thead th {\n",
       "        text-align: right;\n",
       "    }\n",
       "</style>\n",
       "<table border=\"1\" class=\"dataframe\">\n",
       "  <thead>\n",
       "    <tr style=\"text-align: right;\">\n",
       "      <th>cancer_stage</th>\n",
       "      <th>family_history</th>\n",
       "      <th>Stage I</th>\n",
       "      <th>Stage II</th>\n",
       "      <th>Stage III</th>\n",
       "      <th>Stage IV</th>\n",
       "    </tr>\n",
       "  </thead>\n",
       "  <tbody>\n",
       "    <tr>\n",
       "      <th>0</th>\n",
       "      <td>No</td>\n",
       "      <td>25.1</td>\n",
       "      <td>24.9</td>\n",
       "      <td>25.0</td>\n",
       "      <td>25.0</td>\n",
       "    </tr>\n",
       "    <tr>\n",
       "      <th>1</th>\n",
       "      <td>Yes</td>\n",
       "      <td>24.9</td>\n",
       "      <td>25.1</td>\n",
       "      <td>25.0</td>\n",
       "      <td>25.0</td>\n",
       "    </tr>\n",
       "  </tbody>\n",
       "</table>\n",
       "</div>"
      ],
      "text/plain": [
       "cancer_stage family_history  Stage I  Stage II  Stage III  Stage IV\n",
       "0                        No     25.1      24.9       25.0      25.0\n",
       "1                       Yes     24.9      25.1       25.0      25.0"
      ]
     },
     "execution_count": 32,
     "metadata": {},
     "output_type": "execute_result"
    }
   ],
   "source": [
    "stage_distribution = pd.crosstab(data['family_history'], data['cancer_stage'], normalize='index') * 100\n",
    "stage_distribution = stage_distribution.round(1).reset_index()\n",
    "stage_distribution"
   ]
  },
  {
   "cell_type": "code",
   "execution_count": 44,
   "id": "34664100-2721-4762-a56d-aca79e14293d",
   "metadata": {},
   "outputs": [
    {
     "data": {
      "image/png": "[encoded data removed]",
      "text/plain": [
       "<Figure size 500x400 with 1 Axes>"
      ]
     },
     "metadata": {},
     "output_type": "display_data"
    }
   ],
   "source": [
    "stage_distribution_melted = stage_distribution.melt(id_vars='family_history', \n",
    "                                                    value_vars=['Stage I', 'Stage II', 'Stage III', 'Stage IV'], \n",
    "                                                    var_name='cancer_stage', value_name='percentage')\n",
    "plt.figure(figsize=(5, 4))\n",
    "sns.barplot(x='family_history', y='percentage', hue='cancer_stage', data=stage_distribution_melted,palette='viridis')\n",
    "plt.title('Cancer Stage Distribution by Family History of Cancer')\n",
    "plt.xlabel('Family History of Cancer')\n",
    "plt.ylabel('Percentage (%)')\n",
    "plt.ylim(0, 100)\n",
    "plt.show()"
   ]
  },
  {
   "cell_type": "markdown",
   "id": "949ce5ee-e051-482b-83ad-08c45514a440",
   "metadata": {},
   "source": [
    "VII) MULTIPLE CANCER CASES"
   ]
  },
  {
   "cell_type": "markdown",
   "id": "c93b5330-ddef-4042-bfa9-c6dd6dbdfc2e",
   "metadata": {},
   "source": [
    "1) How does the presence of additional cancers impact treatment effectiveness and survival probability?"
   ]
  },
  {
   "cell_type": "raw",
   "id": "2e86695e-e5bc-4085-898d-70b5cf7a765b",
   "metadata": {},
   "source": [
    "creating a data frame showing additional cancer and survival probaility"
   ]
  },
  {
   "cell_type": "code",
   "execution_count": 39,
   "id": "402307a7-d82c-4047-834e-ca1eef674a2d",
   "metadata": {},
   "outputs": [
    {
     "data": {
      "text/html": [
       "<div>\n",
       "<style scoped>\n",
       "    .dataframe tbody tr th:only-of-type {\n",
       "        vertical-align: middle;\n",
       "    }\n",
       "\n",
       "    .dataframe tbody tr th {\n",
       "        vertical-align: top;\n",
       "    }\n",
       "\n",
       "    .dataframe thead th {\n",
       "        text-align: right;\n",
       "    }\n",
       "</style>\n",
       "<table border=\"1\" class=\"dataframe\">\n",
       "  <thead>\n",
       "    <tr style=\"text-align: right;\">\n",
       "      <th></th>\n",
       "      <th>cancer_group</th>\n",
       "      <th>survived</th>\n",
       "    </tr>\n",
       "  </thead>\n",
       "  <tbody>\n",
       "    <tr>\n",
       "      <th>0</th>\n",
       "      <td>Single</td>\n",
       "      <td>0</td>\n",
       "    </tr>\n",
       "    <tr>\n",
       "      <th>1</th>\n",
       "      <td>Single</td>\n",
       "      <td>1</td>\n",
       "    </tr>\n",
       "    <tr>\n",
       "      <th>2</th>\n",
       "      <td>Single</td>\n",
       "      <td>0</td>\n",
       "    </tr>\n",
       "    <tr>\n",
       "      <th>3</th>\n",
       "      <td>Single</td>\n",
       "      <td>0</td>\n",
       "    </tr>\n",
       "    <tr>\n",
       "      <th>4</th>\n",
       "      <td>Single</td>\n",
       "      <td>0</td>\n",
       "    </tr>\n",
       "    <tr>\n",
       "      <th>...</th>\n",
       "      <td>...</td>\n",
       "      <td>...</td>\n",
       "    </tr>\n",
       "    <tr>\n",
       "      <th>889995</th>\n",
       "      <td>Single</td>\n",
       "      <td>0</td>\n",
       "    </tr>\n",
       "    <tr>\n",
       "      <th>889996</th>\n",
       "      <td>Single</td>\n",
       "      <td>0</td>\n",
       "    </tr>\n",
       "    <tr>\n",
       "      <th>889997</th>\n",
       "      <td>Single</td>\n",
       "      <td>1</td>\n",
       "    </tr>\n",
       "    <tr>\n",
       "      <th>889998</th>\n",
       "      <td>Single</td>\n",
       "      <td>0</td>\n",
       "    </tr>\n",
       "    <tr>\n",
       "      <th>889999</th>\n",
       "      <td>Single</td>\n",
       "      <td>0</td>\n",
       "    </tr>\n",
       "  </tbody>\n",
       "</table>\n",
       "<p>890000 rows × 2 columns</p>\n",
       "</div>"
      ],
      "text/plain": [
       "       cancer_group  survived\n",
       "0            Single         0\n",
       "1            Single         1\n",
       "2            Single         0\n",
       "3            Single         0\n",
       "4            Single         0\n",
       "...             ...       ...\n",
       "889995       Single         0\n",
       "889996       Single         0\n",
       "889997       Single         1\n",
       "889998       Single         0\n",
       "889999       Single         0\n",
       "\n",
       "[890000 rows x 2 columns]"
      ]
     },
     "execution_count": 39,
     "metadata": {},
     "output_type": "execute_result"
    }
   ],
   "source": [
    "cancer_group = data['other_cancer'].apply(lambda x: 'Single' if x == 0 else 'Multiple')\n",
    "df=pd.DataFrame({ 'cancer_group':cancer_group\n",
    "})\n",
    "df['survived']=data['survived']\n",
    "df"
   ]
  },
  {
   "cell_type": "code",
   "execution_count": 43,
   "id": "890b4d15-aaba-4d20-9838-1fce61d4c37b",
   "metadata": {},
   "outputs": [
    {
     "data": {
      "text/html": [
       "<div>\n",
       "<style scoped>\n",
       "    .dataframe tbody tr th:only-of-type {\n",
       "        vertical-align: middle;\n",
       "    }\n",
       "\n",
       "    .dataframe tbody tr th {\n",
       "        vertical-align: top;\n",
       "    }\n",
       "\n",
       "    .dataframe thead th {\n",
       "        text-align: right;\n",
       "    }\n",
       "</style>\n",
       "<table border=\"1\" class=\"dataframe\">\n",
       "  <thead>\n",
       "    <tr style=\"text-align: right;\">\n",
       "      <th></th>\n",
       "      <th>cancer_group</th>\n",
       "      <th>survival_rate</th>\n",
       "    </tr>\n",
       "  </thead>\n",
       "  <tbody>\n",
       "    <tr>\n",
       "      <th>0</th>\n",
       "      <td>Multiple</td>\n",
       "      <td>21.8</td>\n",
       "    </tr>\n",
       "    <tr>\n",
       "      <th>1</th>\n",
       "      <td>Single</td>\n",
       "      <td>22.0</td>\n",
       "    </tr>\n",
       "  </tbody>\n",
       "</table>\n",
       "</div>"
      ],
      "text/plain": [
       "  cancer_group  survival_rate\n",
       "0     Multiple           21.8\n",
       "1       Single           22.0"
      ]
     },
     "execution_count": 43,
     "metadata": {},
     "output_type": "execute_result"
    }
   ],
   "source": [
    "survival_rates = df.groupby('cancer_group')['survived'].mean() * 100\n",
    "survival_rates = survival_rates.round(1).reset_index(name='survival_rate')\n",
    "survival_rates"
   ]
  },
  {
   "cell_type": "markdown",
   "id": "c6e3af36-5aee-46f8-9728-058553d636e8",
   "metadata": {},
   "source": [
    "2)Does having multiple cancers significantly decrease overall survival rates?"
   ]
  },
  {
   "cell_type": "code",
   "execution_count": 47,
   "id": "20e86500-a663-404f-9091-3158a9173ee5",
   "metadata": {},
   "outputs": [
    {
     "data": {
      "image/png": "[encoded data removed]",
      "text/plain": [
       "<Figure size 500x400 with 1 Axes>"
      ]
     },
     "metadata": {},
     "output_type": "display_data"
    }
   ],
   "source": [
    "plt.figure(figsize=(5,4))\n",
    "sns.scatterplot(x='cancer_group', y='survival_rate', data=survival_rates, hue='cancer_group',palette='plasma')\n",
    "plt.title('Survival Rates: Single vs Multiple Cancers')\n",
    "plt.xlabel('Cancer Group')\n",
    "plt.ylabel('Survival Rate (%)')\n",
    "plt.ylim(0, 100)\n",
    "plt.show()"
   ]
  },
  {
   "cell_type": "markdown",
   "id": "b36c7148-77a2-414b-aaff-c04a97fd88f2",
   "metadata": {},
   "source": [
    "VIII) TIME BASED ANALYSIS AND TRENDS"
   ]
  },
  {
   "cell_type": "markdown",
   "id": "dd641156-41c4-472f-9149-8cd8cb6010b4",
   "metadata": {},
   "source": [
    "1) How many patients have both diagnosis and end treatment dates, and what is their recovery time span?"
   ]
  },
  {
   "cell_type": "code",
   "execution_count": 57,
   "id": "02874ae5-76d7-4671-a15e-373985240771",
   "metadata": {},
   "outputs": [
    {
     "name": "stdout",
     "output_type": "stream",
     "text": [
      "\n",
      "summary of patients have both diagnosis and end treatment dates, and what is their recovery time span\n",
      "\n"
     ]
    },
    {
     "data": {
      "text/plain": [
       "count    890000.000000\n",
       "mean        458.087170\n",
       "std         139.326048\n",
       "min         183.000000\n",
       "25%         367.000000\n",
       "50%         458.000000\n",
       "75%         550.000000\n",
       "max         730.000000\n",
       "Name: treatment_duration, dtype: float64"
      ]
     },
     "execution_count": 57,
     "metadata": {},
     "output_type": "execute_result"
    }
   ],
   "source": [
    "print(\"\\nsummary of patients have both diagnosis and end treatment dates, and what is their recovery time span\\n\")\n",
    "data['treatment_duration'].describe()"
   ]
  },
  {
   "cell_type": "code",
   "execution_count": 59,
   "id": "09947e35-33fb-4e83-8608-f2e1af88908f",
   "metadata": {},
   "outputs": [
    {
     "data": {
      "image/png": "[encoded data removed]",
      "text/plain": [
       "<Figure size 800x500 with 1 Axes>"
      ]
     },
     "metadata": {},
     "output_type": "display_data"
    }
   ],
   "source": [
    "plt.figure(figsize=(8, 5))\n",
    "sns.histplot(data=patients_with_both_dates, x='treatment_duration', bins=30, color='lightgreen')\n",
    "plt.title('Distribution of Recovery Time Span (Diagnosis to End of Treatment)')\n",
    "plt.xlabel('Recovery Time (Days)')\n",
    "plt.ylabel('Number of Patients')\n",
    "plt.show()"
   ]
  },
  {
   "cell_type": "markdown",
   "id": "579b35a1-9c7f-4987-8d06-aeb7076d1348",
   "metadata": {},
   "source": [
    "2)How does the time from diagnosis to treatment completion affect survival outcomes?"
   ]
  },
  {
   "cell_type": "markdown",
   "id": "10fb48f2-5235-4287-beba-352ebfc59737",
   "metadata": {},
   "source": [
    "creating a dataframe containing info about recovery days ,survival probabilities and recovery groups"
   ]
  },
  {
   "cell_type": "code",
   "execution_count": 20,
   "id": "b8e75287-b065-4e2f-a3e7-56d8e3ba8f7a",
   "metadata": {},
   "outputs": [
    {
     "data": {
      "text/html": [
       "<div>\n",
       "<style scoped>\n",
       "    .dataframe tbody tr th:only-of-type {\n",
       "        vertical-align: middle;\n",
       "    }\n",
       "\n",
       "    .dataframe tbody tr th {\n",
       "        vertical-align: top;\n",
       "    }\n",
       "\n",
       "    .dataframe thead th {\n",
       "        text-align: right;\n",
       "    }\n",
       "</style>\n",
       "<table border=\"1\" class=\"dataframe\">\n",
       "  <thead>\n",
       "    <tr style=\"text-align: right;\">\n",
       "      <th></th>\n",
       "      <th>recovery_time_days</th>\n",
       "      <th>survived</th>\n",
       "      <th>recovery_time_group</th>\n",
       "    </tr>\n",
       "  </thead>\n",
       "  <tbody>\n",
       "    <tr>\n",
       "      <th>0</th>\n",
       "      <td>523</td>\n",
       "      <td>0</td>\n",
       "      <td>Long (&gt;240 days)</td>\n",
       "    </tr>\n",
       "    <tr>\n",
       "      <th>1</th>\n",
       "      <td>424</td>\n",
       "      <td>1</td>\n",
       "      <td>Long (&gt;240 days)</td>\n",
       "    </tr>\n",
       "    <tr>\n",
       "      <th>2</th>\n",
       "      <td>370</td>\n",
       "      <td>0</td>\n",
       "      <td>Medium (120-240 days)</td>\n",
       "    </tr>\n",
       "    <tr>\n",
       "      <th>3</th>\n",
       "      <td>443</td>\n",
       "      <td>0</td>\n",
       "      <td>Long (&gt;240 days)</td>\n",
       "    </tr>\n",
       "    <tr>\n",
       "      <th>4</th>\n",
       "      <td>406</td>\n",
       "      <td>0</td>\n",
       "      <td>Long (&gt;240 days)</td>\n",
       "    </tr>\n",
       "    <tr>\n",
       "      <th>...</th>\n",
       "      <td>...</td>\n",
       "      <td>...</td>\n",
       "      <td>...</td>\n",
       "    </tr>\n",
       "    <tr>\n",
       "      <th>889995</th>\n",
       "      <td>237</td>\n",
       "      <td>0</td>\n",
       "      <td>Medium (120-240 days)</td>\n",
       "    </tr>\n",
       "    <tr>\n",
       "      <th>889996</th>\n",
       "      <td>631</td>\n",
       "      <td>0</td>\n",
       "      <td>Long (&gt;240 days)</td>\n",
       "    </tr>\n",
       "    <tr>\n",
       "      <th>889997</th>\n",
       "      <td>302</td>\n",
       "      <td>1</td>\n",
       "      <td>Medium (120-240 days)</td>\n",
       "    </tr>\n",
       "    <tr>\n",
       "      <th>889998</th>\n",
       "      <td>721</td>\n",
       "      <td>0</td>\n",
       "      <td>Long (&gt;240 days)</td>\n",
       "    </tr>\n",
       "    <tr>\n",
       "      <th>889999</th>\n",
       "      <td>450</td>\n",
       "      <td>0</td>\n",
       "      <td>Long (&gt;240 days)</td>\n",
       "    </tr>\n",
       "  </tbody>\n",
       "</table>\n",
       "<p>890000 rows × 3 columns</p>\n",
       "</div>"
      ],
      "text/plain": [
       "        recovery_time_days  survived    recovery_time_group\n",
       "0                      523         0       Long (>240 days)\n",
       "1                      424         1       Long (>240 days)\n",
       "2                      370         0  Medium (120-240 days)\n",
       "3                      443         0       Long (>240 days)\n",
       "4                      406         0       Long (>240 days)\n",
       "...                    ...       ...                    ...\n",
       "889995                 237         0  Medium (120-240 days)\n",
       "889996                 631         0       Long (>240 days)\n",
       "889997                 302         1  Medium (120-240 days)\n",
       "889998                 721         0       Long (>240 days)\n",
       "889999                 450         0       Long (>240 days)\n",
       "\n",
       "[890000 rows x 3 columns]"
      ]
     },
     "execution_count": 20,
     "metadata": {},
     "output_type": "execute_result"
    }
   ],
   "source": [
    "df=pd.DataFrame({'recovery_time_days':data['treatment_duration'],\n",
    "                 'survived':data['survived']\n",
    "                 })\n",
    "df['recovery_time_group']=pd.cut(df['recovery_time_days'], \n",
    "                                         bins=[0, 185, 385,750 ], \n",
    "                                         labels=['Short (<120 days)', 'Medium (120-240 days)', 'Long (>240 days)'], \n",
    "                                         right=False)\n",
    "df"
   ]
  },
  {
   "cell_type": "markdown",
   "id": "6b8ff707-3976-4ce0-89aa-7c37ecdd52c9",
   "metadata": {},
   "source": [
    "calculating survival rate by recovery duration groups"
   ]
  },
  {
   "cell_type": "code",
   "execution_count": 21,
   "id": "2a42b784-3632-41c3-baed-bcdc4f96f53d",
   "metadata": {},
   "outputs": [
    {
     "data": {
      "image/png": "[encoded data removed]",
      "text/plain": [
       "<Figure size 600x500 with 1 Axes>"
      ]
     },
     "metadata": {},
     "output_type": "display_data"
    }
   ],
   "source": [
    "survival_rate=(df.groupby('recovery_time_group',observed=True)['survived'].mean()*100).round(3).reset_index(name='survival_rate')\n",
    "plt.figure(figsize=(6, 5))\n",
    "sns.barplot(x='recovery_time_group', y='survival_rate', data=survival_rate,hue='recovery_time_group',palette='viridis')\n",
    "plt.title('Survival Rates by Time from Diagnosis to Treatment Completion')\n",
    "plt.xlabel('Recovery Time Group')\n",
    "plt.ylabel('Survival Rate (%)')\n",
    "plt.ylim(0, 100)\n",
    "plt.show()"
   ]
  }
 ],
 "metadata": {
  "kernelspec": {
   "display_name": "Python 3 (ipykernel)",
   "language": "python",
   "name": "python3"
  },
  "language_info": {
   "codemirror_mode": {
    "name": "ipython",
    "version": 3
   },
   "file_extension": ".py",
   "mimetype": "text/x-python",
   "name": "python",
   "nbconvert_exporter": "python",
   "pygments_lexer": "ipython3",
   "version": "3.12.7"
  }
 },
 "nbformat": 4,
 "nbformat_minor": 5
}
